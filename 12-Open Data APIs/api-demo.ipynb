{
 "cells": [
  {
   "cell_type": "markdown",
   "metadata": {},
   "source": [
    "# Working with Data APIs\n",
    "\n",
    "**Sam Maurer // maurer@berkeley.edu // Oct. 3, 2016**\n",
    "\n",
    "This notebook provides a demonstration of data-access APIs that operate over the web. See README.md for setup instructions.\n",
    "\n",
    "In Part 1, we'll load and parse results from an API feed of earthquake data.  \n",
    "In Part 2, we'll add query parameters to the workflow, using the Google Maps Geolocation API as an example.  \n",
    "In Part 3, we'll use an authenticated API to query public Twitter posts. "
   ]
  },
  {
   "cell_type": "markdown",
   "metadata": {},
   "source": [
    "# Part 1: Reading from an automated data feed\n",
    "\n",
    "### USGS real-time earthquake feeds\n",
    "\n",
    "This is an API for near-real-time data about earthquakes. Data is provided in JSON format over the web. No authentication is needed, and there's no way to customize the output. Instead, the API has a separate endpoint for each permutation of the data that users might want.\n",
    "\n",
    "**API documentation:**  \n",
    "http://earthquake.usgs.gov/earthquakes/feed/v1.0/geojson.php\n",
    "\n",
    "**Sample API endpoint, for magnitude 4.5+ earthquakes in past day:**  \n",
    "http://earthquake.usgs.gov/earthquakes/feed/v1.0/summary/4.5_day.geojson  \n"
   ]
  },
  {
   "cell_type": "code",
   "execution_count": 1,
   "metadata": {
    "collapsed": true
   },
   "outputs": [],
   "source": [
    "%matplotlib inline\n",
    "\n",
    "import pandas as pd\n",
    "\n",
    "import json    # library for working with JSON-formatted text strings\n",
    "import requests  # library for accessing content from web URLs\n",
    "\n",
    "import pprint  # library for making Python data structures readable\n",
    "pp = pprint.PrettyPrinter()"
   ]
  },
  {
   "cell_type": "code",
   "execution_count": 2,
   "metadata": {},
   "outputs": [
    {
     "name": "stdout",
     "output_type": "stream",
     "text": [
      "<class 'str'>\n"
     ]
    }
   ],
   "source": [
    "# download data on magnitude 2.5+ quakes from the past week\n",
    "\n",
    "endpoint_url = \"http://earthquake.usgs.gov/earthquakes/feed/v1.0/summary/2.5_week.geojson\"\n",
    "response = requests.get(endpoint_url)\n",
    "results = response.text\n",
    "\n",
    "# what is the data type of the results?\n",
    "print(type(results))"
   ]
  },
  {
   "cell_type": "code",
   "execution_count": 3,
   "metadata": {},
   "outputs": [
    {
     "name": "stdout",
     "output_type": "stream",
     "text": [
      "{\"type\":\"FeatureCollection\",\"metadata\":{\"generated\":1519688025000,\"url\":\"https://earthquake.usgs.gov/earthquakes/feed/v1.0/summary/2.5_week.geojson\",\"title\":\"USGS Magnitude 2.5+ Earthquakes, Past Week\",\"status\":200,\"api\":\"1.5.8\",\"count\":309},\"features\":[{\"type\":\"Feature\",\"properties\":{\"mag\":2.58,\"place\":\"15km S of Hamilton City, CA\",\"time\":1519687399570,\"updated\":1519687567797,\"tz\":-480,\"url\":\"https://earthquake.usgs.gov/earthquakes/eventpage/nc72976641\",\"detail\":\"https://earthquake.usgs.gov/ear\n"
     ]
    }
   ],
   "source": [
    "# print the first 500 characters to see a sample of the data\n",
    "\n",
    "print(results[:500])"
   ]
  },
  {
   "cell_type": "code",
   "execution_count": 4,
   "metadata": {},
   "outputs": [
    {
     "name": "stdout",
     "output_type": "stream",
     "text": [
      "<class 'dict'>\n"
     ]
    }
   ],
   "source": [
    "# it looks like the results are a string with JSON-formatted data inside\n",
    "\n",
    "# parse the string into a Python dictionary\n",
    "data = json.loads(results)\n",
    "\n",
    "print(type(data))"
   ]
  },
  {
   "cell_type": "code",
   "execution_count": 5,
   "metadata": {},
   "outputs": [
    {
     "name": "stdout",
     "output_type": "stream",
     "text": [
      "{'type': 'Feature', 'properties': {'mag': 2.58, 'place': '15km S of Hamilton City, CA', 'time': 1519687399570, 'updated': 1519687567797, 'tz': -480, 'url': 'https://earthquake.usgs.gov/earthquakes/eventpage/nc72976641', 'detail': 'https://earthquake.usgs.gov/earthquakes/feed/v1.0/detail/nc72976641.geojson', 'felt': None, 'cdi': None, 'mmi': None, 'alert': None, 'status': 'automatic', 'tsunami': 0, 'sig': 102, 'net': 'nc', 'code': '72976641', 'ids': ',nc72976641,', 'sources': ',nc,', 'types': ',geoserve,nearby-cities,origin,phase-data,', 'nst': 20, 'dmin': 0.3118, 'rms': 0.11, 'gap': 50, 'magType': 'md', 'type': 'earthquake', 'title': 'M 2.6 - 15km S of Hamilton City, CA'}, 'geometry': {'type': 'Point', 'coordinates': [-122.0121689, 39.605835, 23.62]}, 'id': 'nc72976641'}\n"
     ]
    }
   ],
   "source": [
    "# print the most recent quake\n",
    "\n",
    "quakes = data['features']\n",
    "print(quakes[0])"
   ]
  },
  {
   "cell_type": "code",
   "execution_count": 6,
   "metadata": {},
   "outputs": [
    {
     "name": "stdout",
     "output_type": "stream",
     "text": [
      "{'coordinates': [-122.0121689, 39.605835, 23.62], 'type': 'Point'}\n",
      "{'alert': None,\n",
      " 'cdi': None,\n",
      " 'code': '72976641',\n",
      " 'detail': 'https://earthquake.usgs.gov/earthquakes/feed/v1.0/detail/nc72976641.geojson',\n",
      " 'dmin': 0.3118,\n",
      " 'felt': None,\n",
      " 'gap': 50,\n",
      " 'ids': ',nc72976641,',\n",
      " 'mag': 2.58,\n",
      " 'magType': 'md',\n",
      " 'mmi': None,\n",
      " 'net': 'nc',\n",
      " 'nst': 20,\n",
      " 'place': '15km S of Hamilton City, CA',\n",
      " 'rms': 0.11,\n",
      " 'sig': 102,\n",
      " 'sources': ',nc,',\n",
      " 'status': 'automatic',\n",
      " 'time': 1519687399570,\n",
      " 'title': 'M 2.6 - 15km S of Hamilton City, CA',\n",
      " 'tsunami': 0,\n",
      " 'type': 'earthquake',\n",
      " 'types': ',geoserve,nearby-cities,origin,phase-data,',\n",
      " 'tz': -480,\n",
      " 'updated': 1519687567797,\n",
      " 'url': 'https://earthquake.usgs.gov/earthquakes/eventpage/nc72976641'}\n"
     ]
    }
   ],
   "source": [
    "# print it more clearly\n",
    "\n",
    "pp.pprint(quakes[0]['geometry'])\n",
    "pp.pprint(quakes[0]['properties'])"
   ]
  },
  {
   "cell_type": "code",
   "execution_count": 7,
   "metadata": {},
   "outputs": [
    {
     "name": "stdout",
     "output_type": "stream",
     "text": [
      "M 2.6 - 15km S of Hamilton City, CA\n",
      "M 3.9 - 255km SE of Kodiak, Alaska\n",
      "M 4.8 - 103km WSW of Porgera, Papua New Guinea\n",
      "M 4.7 - 110km SW of Porgera, Papua New Guinea\n",
      "M 5.0 - 90km WSW of Mendi, Papua New Guinea\n",
      "M 4.8 - West Chile Rise\n",
      "M 5.1 - 41km SW of Mendi, Papua New Guinea\n",
      "M 3.7 - 18km ESE of Anza, CA\n",
      "M 5.4 - 85km SW of Porgera, Papua New Guinea\n",
      "M 4.4 - 264km ESE of Kodiak, Alaska\n",
      "M 5.1 - 87km WSW of Porgera, Papua New Guinea\n",
      "M 2.8 - 3km NW of The Geysers, CA\n",
      "M 2.8 - 85km NNE of Glennallen, Alaska\n",
      "M 6.2 - 56km SW of Mendi, Papua New Guinea\n",
      "M 4.3 - 6km SSE of Lezhe, Albania\n",
      "M 2.9 - 4km ESE of Aromas, CA\n",
      "M 2.7 - 4km ESE of Aromas, CA\n",
      "M 3.8 - 251km SE of Kodiak, Alaska\n",
      "M 4.3 - 237km SE of Kodiak, Alaska\n",
      "M 3.8 - 248km ESE of Kodiak, Alaska\n",
      "M 6.1 - 45km NE of Airbuaya, Indonesia\n",
      "M 4.1 - 51km WSW of Mendi, Papua New Guinea\n",
      "M 4.9 - 26km SSW of Golfito, Costa Rica\n",
      "M 4.8 - 57km WSW of Mendi, Papua New Guinea\n",
      "M 5.2 - 37km WSW of Mendi, Papua New Guinea\n",
      "M 5.0 - 46km WSW of Mendi, Papua New Guinea\n",
      "M 5.7 - 37km SSW of Mendi, Papua New Guinea\n",
      "M 4.7 - 66km W of Mendi, Papua New Guinea\n",
      "M 4.9 - 48km WSW of Mendi, Papua New Guinea\n",
      "M 4.7 - 38km SSW of Mendi, Papua New Guinea\n",
      "M 4.8 - 90km W of Mendi, Papua New Guinea\n",
      "M 4.9 - 82km WSW of Mendi, Papua New Guinea\n",
      "M 5.0 - 91km W of Mendi, Papua New Guinea\n",
      "M 3.3 - 65km NE of Santa Barbara de Samana, Dominican Republic\n",
      "M 6.0 - 50km WSW of Mendi, Papua New Guinea\n",
      "M 2.6 - 6km NE of North Shore, CA\n",
      "M 2.6 - 64km N of Tierras Nuevas Poniente, Puerto Rico\n",
      "M 2.7 - 15km SW of Perry, Oklahoma\n",
      "M 4.6 - 91km W of Mendi, Papua New Guinea\n",
      "M 2.6 - 33km S of Pecos, Texas\n",
      "M 5.1 - 95km SW of Porgera, Papua New Guinea\n",
      "M 4.6 - 99km SW of Porgera, Papua New Guinea\n",
      "M 4.7 - 46km N of Ccolo, Peru\n",
      "M 2.9 - 57km WSW of Rincon, Puerto Rico\n",
      "M 2.6 - 31km ESE of Boca de Yuma, Dominican Republic\n",
      "M 5.0 - 96km W of Mendi, Papua New Guinea\n",
      "M 4.8 - 123km WSW of Mendi, Papua New Guinea\n",
      "M 4.7 - 27km SW of Mendi, Papua New Guinea\n",
      "M 5.6 - 127km SSW of Kokopo, Papua New Guinea\n",
      "M 4.8 - 72km W of Mendi, Papua New Guinea\n",
      "M 5.2 - 70km W of Mendi, Papua New Guinea\n",
      "M 5.0 - 76km W of Mendi, Papua New Guinea\n",
      "M 3.5 - 33km NE of Christiansted, U.S. Virgin Islands\n",
      "M 4.8 - 49km SW of Mendi, Papua New Guinea\n",
      "M 5.0 - 78km W of Mendi, Papua New Guinea\n",
      "M 2.5 - 4km WNW of The Geysers, CA\n",
      "M 3.8 - 57km NE of Road Town, British Virgin Islands\n",
      "M 3.6 - 61km NE of Road Town, British Virgin Islands\n",
      "M 4.1 - 52km WSW of Mendi, Papua New Guinea\n",
      "M 2.7 - 111km NW of Talkeetna, Alaska\n",
      "M 4.6 - 76km W of Mendi, Papua New Guinea\n",
      "M 2.6 - 9km ESE of Soda Springs, Idaho\n",
      "M 4.6 - 67km SW of Mendi, Papua New Guinea\n",
      "M 4.6 - 57km W of Mendi, Papua New Guinea\n",
      "M 5.0 - 62km WSW of Mendi, Papua New Guinea\n",
      "M 4.4 - 128km N of Yelizovo, Russia\n",
      "M 5.0 - 91km SSW of Porgera, Papua New Guinea\n",
      "M 5.0 - 52km WSW of Mendi, Papua New Guinea\n",
      "M 2.5 - 67km SE of Boca de Yuma, Dominican Republic\n",
      "M 4.5 - 72km W of Mendi, Papua New Guinea\n",
      "M 5.2 - 82km SW of Porgera, Papua New Guinea\n",
      "M 2.8 - 56km WSW of Larsen Bay, Alaska\n",
      "M 5.0 - 96km WSW of Porgera, Papua New Guinea\n",
      "M 3.1 - 100km N of Isabela, Puerto Rico\n",
      "M 4.9 - 89km WSW of Porgera, Papua New Guinea\n",
      "M 4.6 - 107km NNE of Cold Bay, Alaska\n",
      "M 5.2 - 99km SSW of Porgera, Papua New Guinea\n",
      "M 4.5 - 58km NNE of Bandar 'Abbas, Iran\n",
      "M 2.9 - 67km NW of San Antonio, Puerto Rico\n",
      "M 4.2 - 27km WNW of Angol, Chile\n",
      "M 5.3 - 39km SW of Mendi, Papua New Guinea\n",
      "M 4.6 - 54km W of Mendi, Papua New Guinea\n",
      "M 4.9 - 35km SW of Mendi, Papua New Guinea\n",
      "M 5.0 - 72km SSW of Porgera, Papua New Guinea\n",
      "M 2.8 - 7km S of Guaymate, Dominican Republic\n",
      "M 5.0 - 34km SE of Su'ao, Taiwan\n",
      "M 5.4 - 33km SSW of Mendi, Papua New Guinea\n",
      "M 5.5 - 110km WSW of Porgera, Papua New Guinea\n",
      "M 7.5 - 89km SSW of Porgera, Papua New Guinea\n",
      "M 4.4 - 79km E of Namie, Japan\n",
      "M 2.8 - 30km W of Nikiski, Alaska\n",
      "M 4.6 - 147km S of Firuzabad, Iran\n",
      "M 5.6 - 66km E of Namie, Japan\n",
      "M 2.9 - 57km N of Tierras Nuevas Poniente, Puerto Rico\n",
      "M 4.5 - 48km WNW of Lagkada, Greece\n",
      "M 3.0 - 13km NE of West Yellowstone, Montana\n",
      "M 4.6 - 41km SSW of Ndoi Island, Fiji\n",
      "M 4.6 - 12km NW of Agrihan, Northern Mariana Islands\n",
      "M 2.5 - 6km NE of North Shore, CA\n",
      "M 4.3 - 12km W of Masterton, New Zealand\n",
      "M 4.7 - 77km SW of Paredon, Mexico\n",
      "M 3.3 - 136km NNE of Vieques, Puerto Rico\n",
      "M 4.0 - 83km WSW of Cantwell, Alaska\n",
      "M 4.4 - 64km ENE of Caucete, Argentina\n",
      "M 3.7 - 221km SE of Kodiak, Alaska\n",
      "M 2.7 - 19km ESE of Medford, Oklahoma\n",
      "M 3.6 - 29km W of Trinidad, Colorado\n",
      "M 2.8 - 28km N of Miches, Dominican Republic\n",
      "M 4.3 - 176km WNW of Coquimbo, Chile\n",
      "M 2.7 - 4km NW of The Geysers, CA\n",
      "M 4.8 - 191km SE of Raoul Island, New Zealand\n",
      "M 3.7 - 249km ESE of Kodiak, Alaska\n",
      "M 4.6 - 145km WNW of Hihifo, Tonga\n",
      "M 3.2 - 80km NNW of Road Town, British Virgin Islands\n",
      "M 4.4 - 7km NNW of Simacota, Colombia\n",
      "M 4.3 - 40km WNW of Illapel, Chile\n",
      "M 3.7 - 67km NNE of Road Town, British Virgin Islands\n",
      "M 2.5 - 23km N of Tierras Nuevas Poniente, Puerto Rico\n",
      "M 4.2 - 41km NW of Coquimbo, Chile\n",
      "M 2.7 - 0km E of Jauca, Puerto Rico\n",
      "M 4.7 - 202km E of Amahai, Indonesia\n",
      "M 2.9 - 34km NW of Fairview, Oklahoma\n",
      "M 3.5 - 8km ESE of Deep Springs, CA\n",
      "M 3.1 - 166km SSW of Middleton Island, Alaska\n",
      "M 2.6 - 75km S of Middleton Island, Alaska\n",
      "M 4.8 - 187km S of Hirara, Japan\n",
      "M 3.0 - 62km SW of Cantwell, Alaska\n",
      "M 4.0 - 22km S of Al Miqdadiyah, Iraq\n",
      "M 4.3 - 12km ESE of San Mateo del Mar, Mexico\n",
      "M 2.8 - 11km W of Medford, Oklahoma\n",
      "M 4.0 - 275km ESE of Kodiak, Alaska\n",
      "M 2.6 - 24km WNW of Kalaoa, Hawaii\n",
      "M 3.3 - 241km ESE of Kodiak, Alaska\n",
      "M 2.7 - 39km ENE of Miches, Dominican Republic\n",
      "M 3.1 - 11km NE of Medford, Oklahoma\n",
      "M 3.8 - 51km SSW of Chernabura Island, Alaska\n",
      "M 5.2 - 142km NNW of Pagudpud, Philippines\n",
      "M 5.0 - 22km ESE of Onan Ganjang, Indonesia\n",
      "M 2.5 - 7km SSW of Markleeville, CA\n",
      "M 5.0 - 147km ESE of Ohara, Japan\n",
      "M 4.3 - 64km S of Koroni, Greece\n",
      "M 4.7 - South Indian Ocean\n",
      "M 4.1 - 127km NNE of Calama, Chile\n",
      "M 4.6 - 32km ESE of Namie, Japan\n",
      "M 2.8 - 48km SSW of Stovepipe Wells, CA\n",
      "M 4.8 - 105km SW of Ndoi Island, Fiji\n",
      "M 4.4 - 102km S of Makry Gialos, Greece\n",
      "M 4.9 - 57km S of Chirilagua, El Salvador\n",
      "M 4.4 - 21km N of Onan Ganjang, Indonesia\n",
      "M 4.1 - 140km SSE of Unalaska, Alaska\n",
      "M 2.8 - 49km WSW of Anchor Point, Alaska\n",
      "M 3.2 - 246km SE of Kodiak, Alaska\n",
      "M 2.5 - 1km WSW of Liborio Negron Torres, Puerto Rico\n",
      "M 4.8 - Northern Mid-Atlantic Ridge\n",
      "M 2.8 - 2km WSW of Diablo, CA\n",
      "M 3.5 - 2km ENE of Danville, CA\n",
      "M 3.4 - 2km ENE of Danville, CA\n",
      "M 3.0 - 89km WNW of Skagway, Alaska\n",
      "M 3.2 - 105km NNW of San Antonio, Puerto Rico\n",
      "M 4.9 - 79km W of Santa Cruz, Chile\n",
      "M 3.4 - 25km SE of Road Town, British Virgin Islands\n",
      "M 3.3 - 2km ENE of Danville, CA\n",
      "M 3.4 - 153km SE of Chirikof Island, Alaska\n",
      "M 2.8 - 27km ESE of Boca de Yuma, Dominican Republic\n",
      "M 4.5 - Off the coast of Central America\n",
      "M 2.8 - 2km E of Danville, CA\n",
      "M 4.5 - 203km E of Amahai, Indonesia\n",
      "M 2.7 - 2km E of Danville, CA\n",
      "M 4.5 - 46km WSW of Sary-Tash, Kyrgyzstan\n",
      "M 2.5 - 4km SSE of Canyondam, CA\n",
      "M 4.3 - 13km WSW of Shahdadkot, Pakistan\n",
      "M 2.5 - 42km SSE of Tecate, B.C., MX\n",
      "M 3.3 - 89km SE of King Salmon, Alaska\n",
      "M 4.6 - 223km SSE of Saparua, Indonesia\n",
      "M 3.2 - 73km W of Pioche, Nevada\n",
      "M 2.7 - 13km S of Doniphan, Missouri\n",
      "M 4.8 - 23km WNW of San Miguel Panixtlahuaca, Mexico\n",
      "M 2.7 - 13km NE of West Yellowstone, Montana\n",
      "M 3.5 - 77km SSW of Redoubt Volcano, Alaska\n",
      "M 5.0 - 68km SSW of Chignik Lake, Alaska\n",
      "M 2.5 - 13km ESE of Lincoln, Montana\n",
      "M 3.6 - 270km ESE of Kodiak, Alaska\n",
      "M 3.9 - Gulf of Alaska\n",
      "M 3.8 - 9km SSW of Asenovgrad, Bulgaria\n",
      "M 3.8 - 128km WSW of Chirikof Island, Alaska\n",
      "M 2.6 - 12km NE of West Yellowstone, Montana\n",
      "M 4.2 - 122km SE of Chignik Lake, Alaska\n",
      "M 4.4 - 262km SE of Kodiak, Alaska\n",
      "M 2.7 - 13km NE of West Yellowstone, Montana\n",
      "M 3.1 - 85km NW of San Antonio, Puerto Rico\n",
      "M 2.7 - 5km SSW of Volcano, Hawaii\n",
      "M 4.4 - North of Severnaya Zemlya\n",
      "M 4.2 - 115km S of San Pedro de Atacama, Chile\n",
      "M 3.1 - 156km SW of Amatignak Island, Alaska\n",
      "M 4.4 - 276km ESE of Kodiak, Alaska\n",
      "M 2.6 - Gulf of Alaska\n",
      "M 4.7 - 106km SW of Jiquilillo, Nicaragua\n",
      "M 3.2 - 12km ESE of Lincoln, Montana\n",
      "M 2.9 - 22km NNE of Snyder, Texas\n",
      "M 2.8 - 11km SW of Perry, Oklahoma\n",
      "M 2.5 - 6km W of Petrolia, CA\n",
      "M 3.2 - 62km NNW of Charlotte Amalie, U.S. Virgin Islands\n",
      "M 3.0 - 13km ESE of Soda Springs, Idaho\n",
      "M 2.6 - 12km NE of West Yellowstone, Montana\n",
      "M 2.5 - 269km ESE of Kodiak, Alaska\n",
      "M 4.4 - 262km ESE of Kodiak, Alaska\n",
      "M 2.7 - 10km WNW of Cobb, CA\n",
      "M 3.2 - 46km N of Charlotte Amalie, U.S. Virgin Islands\n",
      "M 5.3 - 214km E of Amahai, Indonesia\n",
      "M 2.7 - 51km SW of Cantwell, Alaska\n",
      "M 5.4 - 205km E of Amahai, Indonesia\n",
      "M 4.1 - 9km NW of Paralia, Greece\n",
      "M 5.0 - Northern Mid-Atlantic Ridge\n",
      "M 3.4 - 112km SSE of Homer, Alaska\n",
      "M 4.2 - 74km S of Pirgos, Greece\n",
      "M 3.2 - 18km N of Christiansted, U.S. Virgin Islands\n",
      "M 2.8 - 60km ENE of Cantwell, Alaska\n",
      "M 5.0 - 35km W of Katastarion, Greece\n",
      "M 4.3 - 4km ENE of Asenovgrad, Bulgaria\n",
      "M 3.3 - 86km SSW of Shishmaref, Alaska\n",
      "M 5.0 - 64km S of Hualian, Taiwan\n",
      "M 2.7 - 20km W of Perry, Oklahoma\n",
      "M 4.8 - 164km ESE of JP Tinian Town pre-WW2, Northern Mariana Islands\n",
      "M 2.9 - 12km N of Tahoe Vista, CA\n",
      "M 4.3 - Kepulauan Barat Daya, Indonesia\n",
      "M 2.9 - 95km ESE of Little Diomede Island, Alaska\n",
      "M 2.6 - 109km N of Arctic Village, Alaska\n",
      "M 3.2 - 89km NE of Punta Cana, Dominican Republic\n",
      "M 4.7 - 89km SSW of Paredon, Mexico\n",
      "M 3.4 - 68km N of Charlotte Amalie, U.S. Virgin Islands\n",
      "M 4.5 - 231km WNW of Saumlaki, Indonesia\n",
      "M 4.7 - 169km NE of Opotiki, New Zealand\n",
      "M 4.6 - West Chile Rise\n",
      "M 3.0 - 94km WSW of Healy, Alaska\n",
      "M 2.5 - 10km N of Mooreland, Oklahoma\n",
      "M 4.4 - West of the Galapagos Islands\n",
      "M 5.2 - Southwest of Africa\n",
      "M 2.9 - 12km SSW of Bootjack, CA\n",
      "M 4.3 - 57km WNW of Abra Pampa, Argentina\n",
      "M 2.5 - 114km SE of Kodiak, Alaska\n",
      "M 3.2 - 103km NNW of Isabela, Puerto Rico\n",
      "M 4.2 - 32km WSW of Ashkasham, Afghanistan\n",
      "M 3.2 - 199km SE of Kodiak, Alaska\n",
      "M 4.7 - 57km WSW of Angoram, Papua New Guinea\n",
      "M 4.8 - 82km SW of Severo-Kuril'sk, Russia\n",
      "M 3.2 - 13km SSW of Volcano, Hawaii\n",
      "M 2.7 - 74km W of Gustavus, Alaska\n",
      "M 3.4 - 37km SW of Healy, Alaska\n",
      "M 2.9 - 115km SSE of King Salmon, Alaska\n",
      "M 2.8 - 3km WNW of Diablo, CA\n",
      "M 4.5 - 185km SSE of Kangin, Indonesia\n",
      "M 2.8 - 269km SE of Kodiak, Alaska\n",
      "M 4.7 - 88km SSE of Putre, Chile\n",
      "M 2.7 - 10km NE of West Yellowstone, Montana\n",
      "M 4.5 - 36km SSW of Mbulung, Indonesia\n",
      "M 3.2 - 7km ENE of Hennessey, Oklahoma\n",
      "M 4.9 - 82km NW of Laiwui, Indonesia\n",
      "M 4.4 - 70km WSW of Padangsidempuan, Indonesia\n",
      "M 4.3 - 74km SSW of Paredon, Mexico\n",
      "M 2.5 - 4km ESE of Mayaguez, Puerto Rico\n",
      "M 3.1 - 23km SE of Boca de Yuma, Dominican Republic\n",
      "M 3.2 - Gulf of Alaska\n",
      "M 2.5 - 11km NE of West Yellowstone, Montana\n",
      "M 3.2 - 269km ESE of Kodiak, Alaska\n",
      "M 3.6 - 64km ENE of Whittier, Alaska\n",
      "M 5.0 - 109km ENE of `Ohonua, Tonga\n",
      "M 4.2 - 44km WNW of Taltal, Chile\n",
      "M 2.7 - 39km NW of Whittier, Alaska\n",
      "M 5.2 - 52km NNW of Visokoi Island, South Georgia and the South Sandwich Islands\n",
      "M 4.7 - 4km NNE of Jinping, China\n",
      "M 2.7 - 79km WNW of Skagway, Alaska\n",
      "M 2.8 - 2km WNW of Diablo, CA\n",
      "M 2.6 - 2km NW of Diablo, CA\n",
      "M 2.5 - 2km W of Diablo, CA\n",
      "M 4.3 - 51km WNW of Iquique, Chile\n",
      "M 2.7 - 45km ENE of Maneadero, B.C., MX\n",
      "M 3.6 - 44km ENE of Maneadero, B.C., MX\n",
      "M 3.1 - 80km N of San Juan, Puerto Rico\n",
      "M 5.0 - 14km NW of Taltal, Chile\n",
      "M 2.8 - 2km NW of Diablo, CA\n",
      "M 4.9 - 48km W of Manado, Indonesia\n",
      "M 3.7 - 230km SE of Kodiak, Alaska\n",
      "M 2.9 - 81km WNW of Skagway, Alaska\n",
      "M 2.6 - 7km ENE of Edmond, Oklahoma\n",
      "M 5.0 - 79km SSW of Kokopo, Papua New Guinea\n",
      "M 2.7 - 91km ESE of Maneadero, B.C., MX\n",
      "M 2.8 - 21km ESE of Anza, CA\n",
      "M 2.9 - Gulf of Alaska\n",
      "M 4.6 - 49km SSW of Juli, Peru\n",
      "M 3.0 - 24km W of Puerto Real, Puerto Rico\n",
      "M 4.8 - 67km S of San Francisco del Mar, Mexico\n",
      "M 2.6 - 48km SE of Cantwell, Alaska\n",
      "M 2.6 - Gulf of Alaska\n",
      "M 4.8 - Palau region\n",
      "M 4.7 - Palau region\n",
      "M 4.2 - 273km SE of Kodiak, Alaska\n",
      "M 3.0 - 87km NNW of Nikiski, Alaska\n",
      "M 4.0 - 158km WNW of Coquimbo, Chile\n",
      "M 4.3 - 18km N of Patitirion, Greece\n",
      "M 4.3 - 96km SE of Padangsidempuan, Indonesia\n",
      "M 3.6 - 61km NNE of Miches, Dominican Republic\n",
      "M 4.2 - 76km W of Illapel, Chile\n",
      "M 4.7 - Greenland Sea\n",
      "M 2.6 - 10km NNE of Cloverdale, CA\n",
      "M 5.3 - Central Mid-Atlantic Ridge\n",
      "M 2.8 - 11km WSW of King Salmon, Alaska\n",
      "M 4.8 - 90km SE of Akutan, Alaska\n",
      "M 2.8 - 135km S of Middleton Island, Alaska\n",
      "M 2.8 - 21km ESE of Anza, CA\n"
     ]
    }
   ],
   "source": [
    "# pull out the title from each earthquake listing\n",
    "\n",
    "for q in quakes:\n",
    "    print(q['properties']['title'])"
   ]
  },
  {
   "cell_type": "code",
   "execution_count": 8,
   "metadata": {},
   "outputs": [
    {
     "name": "stdout",
     "output_type": "stream",
     "text": [
      "309\n"
     ]
    }
   ],
   "source": [
    "# pull out magnitudes and depths into a Pandas dataframe, using\n",
    "# a more compact Python syntax for iterating through lists\n",
    "\n",
    "d = {'magnitude': [q['properties']['mag'] for q in quakes],\n",
    "     'depth': [q['geometry']['coordinates'][2] for q in quakes]}\n",
    "\n",
    "df = pd.DataFrame.from_dict(d)\n",
    "\n",
    "# how many earthquakes were loaded into the dataframe?\n",
    "print(len(df))"
   ]
  },
  {
   "cell_type": "code",
   "execution_count": 9,
   "metadata": {},
   "outputs": [
    {
     "name": "stdout",
     "output_type": "stream",
     "text": [
      "   depth  magnitude\n",
      "0  23.62       2.58\n",
      "1  21.08       3.90\n",
      "2  10.00       4.80\n",
      "3  10.00       4.70\n",
      "4  10.00       5.00\n"
     ]
    }
   ],
   "source": [
    "# print the first few lines of data\n",
    "\n",
    "print(df.head())"
   ]
  },
  {
   "cell_type": "code",
   "execution_count": 10,
   "metadata": {},
   "outputs": [
    {
     "name": "stdout",
     "output_type": "stream",
     "text": [
      "            depth   magnitude\n",
      "count  309.000000  309.000000\n",
      "mean    39.725725    3.871456\n",
      "std     64.357542    0.978393\n",
      "min     -2.100000    2.450000\n",
      "25%     10.000000    2.850000\n",
      "50%     17.150000    4.000000\n",
      "75%     40.500000    4.700000\n",
      "max    613.840000    7.500000\n"
     ]
    }
   ],
   "source": [
    "# print some descriptive statistics\n",
    "\n",
    "print(df.describe())"
   ]
  },
  {
   "cell_type": "code",
   "execution_count": 11,
   "metadata": {},
   "outputs": [
    {
     "data": {
      "text/plain": [
       "<matplotlib.axes._subplots.AxesSubplot at 0x1a99cec4748>"
      ]
     },
     "execution_count": 11,
     "metadata": {},
     "output_type": "execute_result"
    },
    {
     "data": {
      "image/png": "[encoded data removed]",
      "text/plain": [
       "<matplotlib.figure.Figure at 0x1a99cec4c18>"
      ]
     },
     "metadata": {},
     "output_type": "display_data"
    }
   ],
   "source": [
    "# plot the depth vs. magnitude\n",
    "\n",
    "df.plot(x='magnitude', y='depth', kind='scatter')"
   ]
  },
  {
   "cell_type": "code",
   "execution_count": 12,
   "metadata": {},
   "outputs": [
    {
     "name": "stdout",
     "output_type": "stream",
     "text": [
      "file saved\n"
     ]
    }
   ],
   "source": [
    "# save the dataframe to disk\n",
    "\n",
    "df.to_csv('usgs_earthquake_data.csv')\n",
    "\n",
    "print('file saved')"
   ]
  },
  {
   "cell_type": "code",
   "execution_count": 13,
   "metadata": {},
   "outputs": [
    {
     "name": "stdout",
     "output_type": "stream",
     "text": [
      "   depth  magnitude\n",
      "0  23.62       2.58\n",
      "1  21.08       3.90\n",
      "2  10.00       4.80\n",
      "3  10.00       4.70\n",
      "4  10.00       5.00\n"
     ]
    }
   ],
   "source": [
    "# read it back later\n",
    "\n",
    "new_df = pd.DataFrame.from_csv('usgs_earthquake_data.csv')\n",
    "\n",
    "print(new_df.head())"
   ]
  },
  {
   "cell_type": "code",
   "execution_count": null,
   "metadata": {
    "collapsed": true
   },
   "outputs": [],
   "source": []
  },
  {
   "cell_type": "code",
   "execution_count": null,
   "metadata": {
    "collapsed": true
   },
   "outputs": [],
   "source": []
  },
  {
   "cell_type": "code",
   "execution_count": null,
   "metadata": {
    "collapsed": true
   },
   "outputs": [],
   "source": []
  },
  {
   "cell_type": "markdown",
   "metadata": {},
   "source": [
    "# Part 2: Querying an API endpoint\n",
    "\n",
    "### Google Maps Geocoding API\n",
    "\n",
    "Google has lots of APIs that let you access its services through code instead of through GUI apps. This one from Google Maps lets you look up the latitude-longitude coordinates of street addresses.\n",
    "\n",
    "It works similarly to the earthquakes example, but with query parameters added to the URL endpoint!\n",
    "\n",
    "**API documentation:**  \n",
    "https://developers.google.com/maps/documentation/geocoding/intro\n",
    "\n",
    "**API endpoint:**  \n",
    "https://maps.googleapis.com/maps/api/geocode/json\n",
    "\n",
    "**API endpoint with query parameters:**  \n",
    "https://maps.googleapis.com/maps/api/geocode/json?address=Wurster+Hall"
   ]
  },
  {
   "cell_type": "code",
   "execution_count": 14,
   "metadata": {
    "collapsed": true
   },
   "outputs": [],
   "source": [
    "import json    # library for working with JSON-formatted text strings\n",
    "import requests  # library for accessing content from web URLs\n",
    "\n",
    "import pprint  # library for making Python data structures readable\n",
    "pp = pprint.PrettyPrinter()"
   ]
  },
  {
   "cell_type": "code",
   "execution_count": 15,
   "metadata": {},
   "outputs": [
    {
     "name": "stdout",
     "output_type": "stream",
     "text": [
      "https://maps.googleapis.com/maps/api/geocode/json?address=young+library+uky\n"
     ]
    }
   ],
   "source": [
    "# we have to encode the search query so that it can be passed as a URL, \n",
    "# with spaces and other special characters removed\n",
    "\n",
    "endpoint = 'https://maps.googleapis.com/maps/api/geocode/json'\n",
    "\n",
    "params = {'address': 'young library uky'}\n",
    "\n",
    "url = requests.Request('GET', endpoint, params=params).prepare().url\n",
    "print(url)"
   ]
  },
  {
   "cell_type": "code",
   "execution_count": 16,
   "metadata": {},
   "outputs": [
    {
     "name": "stdout",
     "output_type": "stream",
     "text": [
      "{'results': [{'address_components': [{'long_name': '401', 'short_name': '401', 'types': ['street_number']}, {'long_name': 'Hilltop Avenue', 'short_name': 'Hilltop Ave', 'types': ['route']}, {'long_name': 'Lexington', 'short_name': 'Lexington', 'types': ['locality', 'political']}, {'long_name': 'Fayette County', 'short_name': 'Fayette County', 'types': ['administrative_area_level_2', 'political']}, {'long_name': 'Kentucky', 'short_name': 'KY', 'types': ['administrative_area_level_1', 'political']}, {'long_name': 'United States', 'short_name': 'US', 'types': ['country', 'political']}, {'long_name': '40506', 'short_name': '40506', 'types': ['postal_code']}, {'long_name': '0001', 'short_name': '0001', 'types': ['postal_code_suffix']}], 'formatted_address': '401 Hilltop Ave, Lexington, KY 40506, USA', 'geometry': {'location': {'lat': 38.0328721, 'lng': -84.5017179}, 'location_type': 'ROOFTOP', 'viewport': {'northeast': {'lat': 38.0342210802915, 'lng': -84.50036891970849}, 'southwest': {'lat': 38.0315231197085, 'lng': -84.5030668802915}}}, 'place_id': 'ChIJ4TWVhLhEQogRoRWbSlkOZZY', 'types': ['establishment', 'library', 'point_of_interest']}], 'status': 'OK'}\n"
     ]
    }
   ],
   "source": [
    "# download and parse the results\n",
    "\n",
    "response = requests.get(url)\n",
    "results = response.text\n",
    "data = json.loads(results)\n",
    "\n",
    "print(data)"
   ]
  },
  {
   "cell_type": "code",
   "execution_count": 17,
   "metadata": {},
   "outputs": [
    {
     "name": "stdout",
     "output_type": "stream",
     "text": [
      "{'results': [{'address_components': [{'long_name': '401',\n",
      "                                      'short_name': '401',\n",
      "                                      'types': ['street_number']},\n",
      "                                     {'long_name': 'Hilltop Avenue',\n",
      "                                      'short_name': 'Hilltop Ave',\n",
      "                                      'types': ['route']},\n",
      "                                     {'long_name': 'Lexington',\n",
      "                                      'short_name': 'Lexington',\n",
      "                                      'types': ['locality', 'political']},\n",
      "                                     {'long_name': 'Fayette County',\n",
      "                                      'short_name': 'Fayette County',\n",
      "                                      'types': ['administrative_area_level_2',\n",
      "                                                'political']},\n",
      "                                     {'long_name': 'Kentucky',\n",
      "                                      'short_name': 'KY',\n",
      "                                      'types': ['administrative_area_level_1',\n",
      "                                                'political']},\n",
      "                                     {'long_name': 'United States',\n",
      "                                      'short_name': 'US',\n",
      "                                      'types': ['country', 'political']},\n",
      "                                     {'long_name': '40506',\n",
      "                                      'short_name': '40506',\n",
      "                                      'types': ['postal_code']},\n",
      "                                     {'long_name': '0001',\n",
      "                                      'short_name': '0001',\n",
      "                                      'types': ['postal_code_suffix']}],\n",
      "              'formatted_address': '401 Hilltop Ave, Lexington, KY 40506, USA',\n",
      "              'geometry': {'location': {'lat': 38.0328721, 'lng': -84.5017179},\n",
      "                           'location_type': 'ROOFTOP',\n",
      "                           'viewport': {'northeast': {'lat': 38.0342210802915,\n",
      "                                                      'lng': -84.50036891970849},\n",
      "                                        'southwest': {'lat': 38.0315231197085,\n",
      "                                                      'lng': -84.5030668802915}}},\n",
      "              'place_id': 'ChIJ4TWVhLhEQogRoRWbSlkOZZY',\n",
      "              'types': ['establishment', 'library', 'point_of_interest']}],\n",
      " 'status': 'OK'}\n"
     ]
    }
   ],
   "source": [
    "# print it more nicely\n",
    "\n",
    "pp.pprint(data)"
   ]
  },
  {
   "cell_type": "code",
   "execution_count": 18,
   "metadata": {},
   "outputs": [
    {
     "name": "stdout",
     "output_type": "stream",
     "text": [
      "38.0328721 -84.5017179\n"
     ]
    }
   ],
   "source": [
    "# pull out the lat-lon coordinates\n",
    "\n",
    "for r in data['results']:\n",
    "    coords = r['geometry']['location']\n",
    "    print(coords['lat'], coords['lng'])"
   ]
  },
  {
   "cell_type": "markdown",
   "metadata": {},
   "source": [
    "### Exercises\n",
    "\n",
    "1. Search for some other addresses or landmarks!\n",
    "2. Take a look at the [API documentation](https://developers.google.com/maps/documentation/geocoding/intro). What are the usage limits?"
   ]
  },
  {
   "cell_type": "code",
   "execution_count": 26,
   "metadata": {},
   "outputs": [
    {
     "name": "stdout",
     "output_type": "stream",
     "text": [
      "https://maps.googleapis.com/maps/api/geocode/json?address=Bangladesh+Shilpakala+Academy\n"
     ]
    }
   ],
   "source": [
    "endpoint = 'https://maps.googleapis.com/maps/api/geocode/json'\n",
    "\n",
    "params = {'address': 'Bangladesh Shilpakala Academy'}\n",
    "\n",
    "url = requests.Request('GET', endpoint, params=params).prepare().url\n",
    "print(url)"
   ]
  },
  {
   "cell_type": "code",
   "execution_count": 27,
   "metadata": {},
   "outputs": [
    {
     "name": "stdout",
     "output_type": "stream",
     "text": [
      "{'results': [{'address_components': [{'long_name': 'Segun Bagicha Road', 'short_name': 'Segun Bagicha Rd', 'types': ['route']}, {'long_name': 'Dhaka', 'short_name': 'Dhaka', 'types': ['locality', 'political']}, {'long_name': 'Dhaka District', 'short_name': 'Dhaka District', 'types': ['administrative_area_level_2', 'political']}, {'long_name': 'Dhaka Division', 'short_name': 'Dhaka Division', 'types': ['administrative_area_level_1', 'political']}, {'long_name': 'Bangladesh', 'short_name': 'BD', 'types': ['country', 'political']}], 'formatted_address': 'Address: 14/3 Segunbagicha, Segun Bagicha Rd, Dhaka, Bangladesh', 'geometry': {'location': {'lat': 23.734261, 'lng': 90.40622069999999}, 'location_type': 'GEOMETRIC_CENTER', 'viewport': {'northeast': {'lat': 23.7356099802915, 'lng': 90.40756968029149}, 'southwest': {'lat': 23.7329120197085, 'lng': 90.40487171970848}}}, 'place_id': 'ChIJ9ZEex_O4VTcRgTq-Wom5_og', 'types': ['art_gallery', 'establishment', 'point_of_interest']}], 'status': 'OK'}\n"
     ]
    }
   ],
   "source": [
    "response = requests.get(url)\n",
    "results = response.text\n",
    "data = json.loads(results)\n",
    "\n",
    "print(data)"
   ]
  },
  {
   "cell_type": "code",
   "execution_count": 28,
   "metadata": {},
   "outputs": [
    {
     "name": "stdout",
     "output_type": "stream",
     "text": [
      "{'results': [{'address_components': [{'long_name': 'Segun Bagicha Road',\n",
      "                                      'short_name': 'Segun Bagicha Rd',\n",
      "                                      'types': ['route']},\n",
      "                                     {'long_name': 'Dhaka',\n",
      "                                      'short_name': 'Dhaka',\n",
      "                                      'types': ['locality', 'political']},\n",
      "                                     {'long_name': 'Dhaka District',\n",
      "                                      'short_name': 'Dhaka District',\n",
      "                                      'types': ['administrative_area_level_2',\n",
      "                                                'political']},\n",
      "                                     {'long_name': 'Dhaka Division',\n",
      "                                      'short_name': 'Dhaka Division',\n",
      "                                      'types': ['administrative_area_level_1',\n",
      "                                                'political']},\n",
      "                                     {'long_name': 'Bangladesh',\n",
      "                                      'short_name': 'BD',\n",
      "                                      'types': ['country', 'political']}],\n",
      "              'formatted_address': 'Address: 14/3 Segunbagicha, Segun Bagicha '\n",
      "                                   'Rd, Dhaka, Bangladesh',\n",
      "              'geometry': {'location': {'lat': 23.734261,\n",
      "                                        'lng': 90.40622069999999},\n",
      "                           'location_type': 'GEOMETRIC_CENTER',\n",
      "                           'viewport': {'northeast': {'lat': 23.7356099802915,\n",
      "                                                      'lng': 90.40756968029149},\n",
      "                                        'southwest': {'lat': 23.7329120197085,\n",
      "                                                      'lng': 90.40487171970848}}},\n",
      "              'place_id': 'ChIJ9ZEex_O4VTcRgTq-Wom5_og',\n",
      "              'types': ['art_gallery', 'establishment', 'point_of_interest']}],\n",
      " 'status': 'OK'}\n"
     ]
    }
   ],
   "source": [
    "pp.pprint(data)"
   ]
  },
  {
   "cell_type": "code",
   "execution_count": 29,
   "metadata": {},
   "outputs": [
    {
     "name": "stdout",
     "output_type": "stream",
     "text": [
      "23.734261 90.40622069999999\n"
     ]
    }
   ],
   "source": [
    "for r in data['results']:\n",
    "    coords = r['geometry']['location']\n",
    "    print(coords['lat'], coords['lng'])"
   ]
  },
  {
   "cell_type": "markdown",
   "metadata": {},
   "source": [
    "# Part 3: Querying an API with authentication\n",
    "\n",
    "### Twitter REST APIs\n",
    "\n",
    "Twitter's APIs also operate over the web, but they require a back-and-forth authentication process at the beginning of each connection. It's easier to have a Python library handle this than to create the query URLs ourselves.\n",
    "\n",
    "The Twitter \"REST\" APIs perform stand-alone operations: you submit a query and receive results, like in earlier examples. ([REST](https://en.wikipedia.org/wiki/Representational_state_transfer) is a particular set of guidelines that many APIs follow.) Twitter also has a \"streaming\" API that continues sending results in real time until you disconnect.\n",
    "\n",
    "**API documentation:**  \n",
    "https://dev.twitter.com/rest/public  \n",
    "https://dev.twitter.com/overview/api/tweets\n",
    "\n",
    "**Documentation for the Python helper library**:  \n",
    "https://github.com/geduldig/TwitterAPI"
   ]
  },
  {
   "cell_type": "code",
   "execution_count": 30,
   "metadata": {},
   "outputs": [],
   "source": [
    "from TwitterAPI import TwitterAPI\n",
    "\n",
    "import pprint  # library for making Python data structures readable\n",
    "pp = pprint.PrettyPrinter()"
   ]
  },
  {
   "cell_type": "code",
   "execution_count": 31,
   "metadata": {},
   "outputs": [],
   "source": [
    "# import API credentials from keys.py file in the\n",
    "# same directory as this notebook\n",
    "\n",
    "from keys import *"
   ]
  },
  {
   "cell_type": "code",
   "execution_count": 35,
   "metadata": {},
   "outputs": [
    {
     "data": {
      "text/plain": [
       "'vJw8lBXmHJRuLLCgaIzJcrrf4'"
      ]
     },
     "execution_count": 35,
     "metadata": {},
     "output_type": "execute_result"
    }
   ],
   "source": [
    "consumer_key"
   ]
  },
  {
   "cell_type": "code",
   "execution_count": 32,
   "metadata": {},
   "outputs": [
    {
     "name": "stdout",
     "output_type": "stream",
     "text": [
      "Connection is set up but not tested\n"
     ]
    }
   ],
   "source": [
    "# set up an API connection using credentials from the keys file\n",
    "\n",
    "api = TwitterAPI(consumer_key, consumer_secret, \n",
    "                 access_token, access_token_secret)\n",
    "\n",
    "print(\"Connection is set up but not tested\")"
   ]
  },
  {
   "cell_type": "markdown",
   "metadata": {},
   "source": [
    "### Making a simple data request"
   ]
  },
  {
   "cell_type": "code",
   "execution_count": 46,
   "metadata": {},
   "outputs": [
    {
     "name": "stdout",
     "output_type": "stream",
     "text": [
      "WITCH HUNT!\n",
      "“We’ve seen NO EVIDENCE OF COLLUSION....I have seen nothing, the firing of James Comey and all of the aftermath, th… https://t.co/smYiwXrZnh\n",
      "“I’ve been skeptical about the collusion and obstruction claims for the last year. I just don’t see the evidence...… https://t.co/wUxgVpVTIN\n",
      "“He’s got a very good point. Somebody in the Justice Department has a treasure trove of evidence of Mrs. Clinton’s… https://t.co/IpmARu0gyP\n",
      "RT @WhiteHouse: Merit-based immigration reform will benefit American workers and relieve the strain imposed by our current system on Federa…\n"
     ]
    }
   ],
   "source": [
    "# most recent tweet from @UCBerkeley's timeline\n",
    "\n",
    "endpoint = 'statuses/user_timeline'\n",
    "params = {\n",
    "    'screen_name': 'realDonaldTrump',\n",
    "    'count':5,'until':'2017-12-11'\n",
    "}\n",
    "r = api.request(endpoint, params)\n",
    "\n",
    "for tweet in r.get_iterator():\n",
    "    print(tweet['text'])"
   ]
  },
  {
   "cell_type": "code",
   "execution_count": 47,
   "metadata": {},
   "outputs": [
    {
     "name": "stdout",
     "output_type": "stream",
     "text": [
      "{'contributors': None,\n",
      " 'coordinates': None,\n",
      " 'created_at': 'Sun Feb 25 19:43:34 +0000 2018',\n",
      " 'entities': {'hashtags': [],\n",
      "              'symbols': [],\n",
      "              'urls': [],\n",
      "              'user_mentions': [{'id': 822215673812119553,\n",
      "                                 'id_str': '822215673812119553',\n",
      "                                 'indices': [3, 14],\n",
      "                                 'name': 'The White House',\n",
      "                                 'screen_name': 'WhiteHouse'}]},\n",
      " 'favorite_count': 0,\n",
      " 'favorited': False,\n",
      " 'geo': None,\n",
      " 'id': 967847560248426498,\n",
      " 'id_str': '967847560248426498',\n",
      " 'in_reply_to_screen_name': None,\n",
      " 'in_reply_to_status_id': None,\n",
      " 'in_reply_to_status_id_str': None,\n",
      " 'in_reply_to_user_id': None,\n",
      " 'in_reply_to_user_id_str': None,\n",
      " 'is_quote_status': False,\n",
      " 'lang': 'en',\n",
      " 'place': None,\n",
      " 'retweet_count': 11940,\n",
      " 'retweeted': False,\n",
      " 'retweeted_status': {'contributors': None,\n",
      "                      'coordinates': None,\n",
      "                      'created_at': 'Sun Feb 25 15:16:01 +0000 2018',\n",
      "                      'entities': {'hashtags': [],\n",
      "                                   'symbols': [],\n",
      "                                   'urls': [{'display_url': 'twitter.com/i/web/status/9…',\n",
      "                                             'expanded_url': 'https://twitter.com/i/web/status/967780229828628480',\n",
      "                                             'indices': [117, 140],\n",
      "                                             'url': 'https://t.co/tSq43BlLOs'}],\n",
      "                                   'user_mentions': []},\n",
      "                      'favorite_count': 45242,\n",
      "                      'favorited': False,\n",
      "                      'geo': None,\n",
      "                      'id': 967780229828628480,\n",
      "                      'id_str': '967780229828628480',\n",
      "                      'in_reply_to_screen_name': None,\n",
      "                      'in_reply_to_status_id': None,\n",
      "                      'in_reply_to_status_id_str': None,\n",
      "                      'in_reply_to_user_id': None,\n",
      "                      'in_reply_to_user_id_str': None,\n",
      "                      'is_quote_status': False,\n",
      "                      'lang': 'en',\n",
      "                      'place': None,\n",
      "                      'possibly_sensitive': False,\n",
      "                      'retweet_count': 11940,\n",
      "                      'retweeted': False,\n",
      "                      'source': '<a href=\"https://studio.twitter.com\" '\n",
      "                                'rel=\"nofollow\">Media Studio</a>',\n",
      "                      'text': 'Merit-based immigration reform will benefit '\n",
      "                              'American workers and relieve the strain imposed '\n",
      "                              'by our current system o… '\n",
      "                              'https://t.co/tSq43BlLOs',\n",
      "                      'truncated': True,\n",
      "                      'user': {'contributors_enabled': False,\n",
      "                               'created_at': 'Thu Jan 19 22:54:27 +0000 2017',\n",
      "                               'default_profile': True,\n",
      "                               'default_profile_image': False,\n",
      "                               'description': 'Welcome to @WhiteHouse! Follow '\n",
      "                                              'for the latest from President '\n",
      "                                              '@realDonaldTrump and his '\n",
      "                                              'Administration. Tweets may be '\n",
      "                                              'archived: '\n",
      "                                              'https://t.co/IURuMIrzxb',\n",
      "                               'entities': {'description': {'urls': [{'display_url': 'whitehouse.gov/privacy',\n",
      "                                                                      'expanded_url': 'http://whitehouse.gov/privacy',\n",
      "                                                                      'indices': [126,\n",
      "                                                                                  149],\n",
      "                                                                      'url': 'https://t.co/IURuMIrzxb'}]},\n",
      "                                            'url': {'urls': [{'display_url': 'WhiteHouse.gov',\n",
      "                                                              'expanded_url': 'http://www.WhiteHouse.gov',\n",
      "                                                              'indices': [0,\n",
      "                                                                          23],\n",
      "                                                              'url': 'https://t.co/wyOVgSLgBV'}]}},\n",
      "                               'favourites_count': 9,\n",
      "                               'follow_request_sent': False,\n",
      "                               'followers_count': 16702153,\n",
      "                               'following': False,\n",
      "                               'friends_count': 12,\n",
      "                               'geo_enabled': True,\n",
      "                               'has_extended_profile': False,\n",
      "                               'id': 822215673812119553,\n",
      "                               'id_str': '822215673812119553',\n",
      "                               'is_translation_enabled': False,\n",
      "                               'is_translator': False,\n",
      "                               'lang': 'en',\n",
      "                               'listed_count': 6696,\n",
      "                               'location': 'Washington, D.C.',\n",
      "                               'name': 'The White House',\n",
      "                               'notifications': False,\n",
      "                               'profile_background_color': 'F5F8FA',\n",
      "                               'profile_background_image_url': None,\n",
      "                               'profile_background_image_url_https': None,\n",
      "                               'profile_background_tile': False,\n",
      "                               'profile_banner_url': 'https://pbs.twimg.com/profile_banners/822215673812119553/1508763959',\n",
      "                               'profile_image_url': 'http://pbs.twimg.com/profile_images/822251886988267520/28GpoRsy_normal.jpg',\n",
      "                               'profile_image_url_https': 'https://pbs.twimg.com/profile_images/822251886988267520/28GpoRsy_normal.jpg',\n",
      "                               'profile_link_color': '1DA1F2',\n",
      "                               'profile_sidebar_border_color': 'C0DEED',\n",
      "                               'profile_sidebar_fill_color': 'DDEEF6',\n",
      "                               'profile_text_color': '333333',\n",
      "                               'profile_use_background_image': True,\n",
      "                               'protected': False,\n",
      "                               'screen_name': 'WhiteHouse',\n",
      "                               'statuses_count': 3360,\n",
      "                               'time_zone': 'Eastern Time (US & Canada)',\n",
      "                               'translator_type': 'none',\n",
      "                               'url': 'https://t.co/wyOVgSLgBV',\n",
      "                               'utc_offset': -18000,\n",
      "                               'verified': True}},\n",
      " 'source': '<a href=\"http://twitter.com/download/iphone\" '\n",
      "           'rel=\"nofollow\">Twitter for iPhone</a>',\n",
      " 'text': 'RT @WhiteHouse: Merit-based immigration reform will benefit American '\n",
      "         'workers and relieve the strain imposed by our current system on '\n",
      "         'Federa…',\n",
      " 'truncated': False,\n",
      " 'user': {'contributors_enabled': False,\n",
      "          'created_at': 'Wed Mar 18 13:46:38 +0000 2009',\n",
      "          'default_profile': False,\n",
      "          'default_profile_image': False,\n",
      "          'description': '45th President of the United States of America🇺🇸',\n",
      "          'entities': {'description': {'urls': []},\n",
      "                       'url': {'urls': [{'display_url': 'Instagram.com/realDonaldTrump',\n",
      "                                         'expanded_url': 'http://www.Instagram.com/realDonaldTrump',\n",
      "                                         'indices': [0, 23],\n",
      "                                         'url': 'https://t.co/OMxB0x7xC5'}]}},\n",
      "          'favourites_count': 24,\n",
      "          'follow_request_sent': False,\n",
      "          'followers_count': 48352463,\n",
      "          'following': False,\n",
      "          'friends_count': 45,\n",
      "          'geo_enabled': True,\n",
      "          'has_extended_profile': False,\n",
      "          'id': 25073877,\n",
      "          'id_str': '25073877',\n",
      "          'is_translation_enabled': True,\n",
      "          'is_translator': False,\n",
      "          'lang': 'en',\n",
      "          'listed_count': 84802,\n",
      "          'location': 'Washington, DC',\n",
      "          'name': 'Donald J. Trump',\n",
      "          'notifications': False,\n",
      "          'profile_background_color': '6D5C18',\n",
      "          'profile_background_image_url': 'http://pbs.twimg.com/profile_background_images/530021613/trump_scotland__43_of_70_cc.jpg',\n",
      "          'profile_background_image_url_https': 'https://pbs.twimg.com/profile_background_images/530021613/trump_scotland__43_of_70_cc.jpg',\n",
      "          'profile_background_tile': True,\n",
      "          'profile_banner_url': 'https://pbs.twimg.com/profile_banners/25073877/1519516126',\n",
      "          'profile_image_url': 'http://pbs.twimg.com/profile_images/874276197357596672/kUuht00m_normal.jpg',\n",
      "          'profile_image_url_https': 'https://pbs.twimg.com/profile_images/874276197357596672/kUuht00m_normal.jpg',\n",
      "          'profile_link_color': '1B95E0',\n",
      "          'profile_sidebar_border_color': 'BDDCAD',\n",
      "          'profile_sidebar_fill_color': 'C5CEC0',\n",
      "          'profile_text_color': '333333',\n",
      "          'profile_use_background_image': True,\n",
      "          'protected': False,\n",
      "          'screen_name': 'realDonaldTrump',\n",
      "          'statuses_count': 37026,\n",
      "          'time_zone': 'Eastern Time (US & Canada)',\n",
      "          'translator_type': 'regular',\n",
      "          'url': 'https://t.co/OMxB0x7xC5',\n",
      "          'utc_offset': -18000,\n",
      "          'verified': True}}\n"
     ]
    }
   ],
   "source": [
    "# what other data is there?\n",
    "\n",
    "pp.pprint(tweet)"
   ]
  },
  {
   "cell_type": "markdown",
   "metadata": {},
   "source": [
    "### Other API endpoints allow different types of searches"
   ]
  },
  {
   "cell_type": "code",
   "execution_count": 49,
   "metadata": {},
   "outputs": [
    {
     "name": "stdout",
     "output_type": "stream",
     "text": [
      "RT @sajeebwazed: .@NPR: #Bangladesh has managed to cut its #newborn mortality rate from 64.2 deaths per 1,000 live births in 1990 to 20.1 p…\n",
      "\n",
      "RT @BobGodec: Asanteni to the amazing people in #Bangladesh #Mombasa &amp; @hope2shine for a wonderful visit! You are an inspiration &amp; making a…\n",
      "\n",
      ".@NPR: #Bangladesh has managed to cut its #newborn mortality rate from 64.2 deaths per 1,000 live births in 1990 to… https://t.co/A0JrvCRKpU\n",
      "\n",
      ".@NPR: #Bangladesh has managed to cut its #newborn mortality rate from 64.2 deaths per 1,000 live births in 1990 to… https://t.co/SxFFLlgZR3\n",
      "\n"
     ]
    }
   ],
   "source": [
    "# search for public tweets about #bart\n",
    "\n",
    "endpoint = 'search/tweets'\n",
    "params = {\n",
    "    'q': '#bangladesh', \n",
    "    'count': 5\n",
    "}\n",
    "r = api.request(endpoint, params)\n",
    "\n",
    "for tweet in r.get_iterator():\n",
    "    print(tweet['text'] + '\\n')"
   ]
  },
  {
   "cell_type": "code",
   "execution_count": 53,
   "metadata": {},
   "outputs": [
    {
     "name": "stdout",
     "output_type": "stream",
     "text": [
      "Training with my L-Drago Destroy right now.\n",
      "\n",
      "@thatemskid @thatemsnerd bring it home\n",
      "\n",
      "RT @Zola1611: “I REALLY BELIEVE \n",
      "I’D RUN IN THERE...”\n",
      "\n",
      "...ya damn right you would. You’ve done it before. \n",
      "\n",
      "@realDonaldTrump @RealJamesWood…\n",
      "\n",
      "RT @Jada_Armani: @BiggBrazy4 Mane i swear!!! 😭 You was so drunk this day 😂😂😂😂😂\n",
      "\n",
      "Better off minding ya business https://t.co/rmryAtL1IU\n",
      "\n",
      "RT @CornwallLive: A man has died after a crash on the #A38 https://t.co/GQFArY74jg\n",
      "\n"
     ]
    }
   ],
   "source": [
    "# search for public tweets in Hindi\n",
    "\n",
    "endpoint = 'search/tweets'\n",
    "params = {\n",
    "    'q': '*', \n",
    "    'lang': 'en', \n",
    "    'count': 6\n",
    "} \n",
    "r = api.request(endpoint, params)\n",
    "\n",
    "for tweet in r.get_iterator():\n",
    "    print(tweet['text'] + '\\n')"
   ]
  },
  {
   "cell_type": "code",
   "execution_count": 54,
   "metadata": {},
   "outputs": [
    {
     "name": "stdout",
     "output_type": "stream",
     "text": [
      "New Blog Post Why are You Inflexible?  https://t.co/zG4DQ8ETsK\n",
      "\n",
      "Yay Monday’s 😭 https://t.co/RRC48Yid9I\n",
      "\n",
      "No reason to dread Mondays When Pilates is an option! Start your day and week feeling long,… https://t.co/s3qe9u0w25\n",
      "\n",
      "Just a few days left for our February Special!! Three privates for just… https://t.co/4wuMHix6pQ\n",
      "\n",
      "It may be rainy 🌨 outside… But it’s nice and shiny in the studio. Getting ready for a couple… https://t.co/pHspmEq0ze\n",
      "\n"
     ]
    }
   ],
   "source": [
    "# search for public tweets geotagged near the UK campus\n",
    "\n",
    "endpoint = 'search/tweets'\n",
    "params = {\n",
    "    'q': '*', \n",
    "    'geocode': '38.034,-84.500,0.5km', \n",
    "    'count': 5\n",
    "} \n",
    "r = api.request(endpoint, params)\n",
    "\n",
    "for tweet in r.get_iterator():\n",
    "    print(tweet['text'] + '\\n')"
   ]
  },
  {
   "cell_type": "markdown",
   "metadata": {},
   "source": [
    "### Exercises\n",
    "\n",
    "1. Try some different search queries!\n",
    "2. Display some more data fields in addition to the tweet text"
   ]
  },
  {
   "cell_type": "code",
   "execution_count": null,
   "metadata": {
    "collapsed": true
   },
   "outputs": [],
   "source": [
    "endpoint = 'search/tweets'\n",
    "params = {\n",
    "    'q': '*', \n",
    "    'geocode': '38.034,-84.500,0.5km', \n",
    "    'count': 5\n",
    "} \n",
    "r = api.request(endpoint, params)\n",
    "\n",
    "for tweet in r.get_iterator():\n",
    "    print(tweet['text'] + '\\n')"
   ]
  },
  {
   "cell_type": "code",
   "execution_count": null,
   "metadata": {
    "collapsed": true
   },
   "outputs": [],
   "source": []
  },
  {
   "cell_type": "code",
   "execution_count": null,
   "metadata": {
    "collapsed": true
   },
   "outputs": [],
   "source": []
  },
  {
   "cell_type": "markdown",
   "metadata": {},
   "source": [
    "### Bonus: Streaming live tweets in real time "
   ]
  },
  {
   "cell_type": "code",
   "execution_count": null,
   "metadata": {},
   "outputs": [],
   "source": [
    "# Twitter limits simultaneous connections to the streaming API,\n",
    "# so this part may not work using the demo API keys during class\n",
    "\n",
    "endpoint = 'statuses/filter'\n",
    "params = {'locations': '-180,-90,180,90'}\n",
    "r = api.request(endpoint, params)\n",
    "LIMIT = 20\n",
    "\n",
    "# 'enumerate' lets us count tweets as we receive them\n",
    "\n",
    "for i, tweet in enumerate(r.get_iterator()):\n",
    "    print(tweet['created_at'])\n",
    "    print(tweet['place']['full_name'] + ', ' + tweet['place']['country'])\n",
    "    print(tweet['text'] + '\\n')\n",
    "    if (i > LIMIT): break\n",
    "\n",
    "# close the streaming connection\n",
    "r.close()"
   ]
  },
  {
   "cell_type": "code",
   "execution_count": null,
   "metadata": {
    "collapsed": true
   },
   "outputs": [],
   "source": []
  },
  {
   "cell_type": "code",
   "execution_count": null,
   "metadata": {
    "collapsed": true
   },
   "outputs": [],
   "source": []
  },
  {
   "cell_type": "code",
   "execution_count": null,
   "metadata": {
    "collapsed": true
   },
   "outputs": [],
   "source": []
  },
  {
   "cell_type": "markdown",
   "metadata": {},
   "source": [
    "### Exercises for the remainder of class\n",
    "\n",
    "1. Make a scatter plot of the lat-lon coordinates of earthquakes.  \n",
    "   &nbsp;\n",
    "   \n",
    "2. Using the geocoding example as a starting point, try searching the Google Maps Directions API or Elevation API instead. Descriptions are in the [API documentation](https://developers.google.com/maps/documentation/geocoding/intro).  \n",
    "   &nbsp;\n",
    "   "
   ]
  },
  {
   "cell_type": "code",
   "execution_count": null,
   "metadata": {
    "collapsed": true
   },
   "outputs": [],
   "source": []
  },
  {
   "cell_type": "markdown",
   "metadata": {
    "collapsed": true
   },
   "source": [
    "### For next time...\n",
    "\n",
    "In the next class, you will try out another API that provides data you're interested in. You will be asked to try connecting to it using Python code, and performing some basic operations on the data.  To come prepared for next time, please explore some of the transportation-related APIs that may be valuable, and choose one that is of interest to you.\n",
    "\n",
    "Here are a a few to get you started. \n",
    "\n",
    "Public Transit\n",
    "https://www.programmableweb.com/news/how-smart-cities-are-using-apis-public-transport-apis/2014/05/22\n",
    "\n",
    "Long-Distance Travel\n",
    "http://www.olery.com/blog/the-best-travel-apis-discover-contribute/ \n",
    "\n",
    "Transportation\n",
    "https://www.programmableweb.com/category/transportation/api\n",
    "\n",
    "\n",
    "Start by reading the public transit page, because that provides a nice overview of the types of applications out there, and some of the issues in using them.  These lessons often apply to traffic and transportation more generally.  \n",
    "\n",
    "Keep in mind that there are a number of different organizations that provide APIs, with different motivations and quality of what is provided.  If it is a private company, what is their business model?  What is the underlying source of the data, and what might that imply about how representative it is of the real world?  There is a ton of stuff out there.  How do we go about sorting out what is useful to us and what is now.  Spend some time exploring these and thinking about these questions.  \n"
   ]
  },
  {
   "cell_type": "code",
   "execution_count": null,
   "metadata": {
    "collapsed": true
   },
   "outputs": [],
   "source": []
  },
  {
   "cell_type": "code",
   "execution_count": null,
   "metadata": {
    "collapsed": true
   },
   "outputs": [],
   "source": []
  }
 ],
 "metadata": {
  "anaconda-cloud": {},
  "kernelspec": {
   "display_name": "Python 3",
   "language": "python",
   "name": "python3"
  },
  "language_info": {
   "codemirror_mode": {
    "name": "ipython",
    "version": 3
   },
   "file_extension": ".py",
   "mimetype": "text/x-python",
   "name": "python",
   "nbconvert_exporter": "python",
   "pygments_lexer": "ipython3",
   "version": "3.6.3"
  }
 },
 "nbformat": 4,
 "nbformat_minor": 1
}
