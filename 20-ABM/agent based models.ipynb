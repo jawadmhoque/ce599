{
 "cells": [
  {
   "cell_type": "markdown",
   "metadata": {},
   "source": [
    "# Schelling Segregation Model\n",
    "\n",
    "\n",
    "### Background (from Mesa example)\n",
    "\n",
    "\"The Schelling (1971) segregation model is a classic of agent-based modeling, demonstrating how agents following simple rules lead to the emergence of qualitatively different macro-level outcomes. Agents are randomly placed on a grid. There are two types of agents, one constituting the majority and the other the minority. All agents want a certain number (generally, 3) of their 8 surrounding neighbors to be of the same type in order for them to be happy. Unhappy agents will move to a random available grid space. While individual agents do not have a preference for a segregated outcome (e.g. they would be happy with 3 similar neighbors and 5 different ones), the aggregate outcome is nevertheless heavily segregated.\"\n",
    "\n",
    "\n",
    "### Credits\n",
    "\n",
    "This lesson was adapted from several sources, including:\n",
    "\n",
    "Project Mesa, by Jackie Kazil: \n",
    "\n",
    "https://github.com/projectmesa/mesa-schelling-example/blob/master/analysis.ipynb\n",
    "\n",
    "An introduction to agent-based models: simulating segregation with Python by Adil Moujahid \n",
    "\n",
    "https://www.binpress.com/tutorial/introduction-to-agentbased-models-an-implementation-of-schelling-model-in-python/144\n",
    "\n",
    "Schelling, Thomas C. Dynamic Models of Segregation. Journal of Mathematical Sociology. 1971, Vol. 1, pp 143-186.\n",
    "\n",
    "https://www.stat.berkeley.edu/%7Ealdous/157/Papers/Schelling_Seg_Models.pdf "
   ]
  },
  {
   "cell_type": "markdown",
   "metadata": {},
   "source": [
    "### Agents as Objects\n",
    "\n",
    "Schelling used pennies and nickels to test his model.  We are going to implement this in python.  As discussed last time, agents can be naturally represented as objects.  I've started a class for you called SchellingAgent.  Take a look.  \n",
    "\n",
    "A few things to notice are:\n",
    "\n",
    "1. Agents usually have a state.  What is represents the state of a SchellingAgent?  \n",
    "2. Agents usually know something about their environment.  What represents the environment in this case?  \n",
    "3. Agents usually have some autonomous behavior.  What behavior do they have?  \n"
   ]
  },
  {
   "cell_type": "code",
   "execution_count": 1,
   "metadata": {
    "collapsed": true
   },
   "outputs": [],
   "source": [
    "# when we're importing modules, they are normally only reloaded when we import.\n",
    "# here we're going to be making changes to the modules.  \n",
    "# this code tells python to reload them each time I execute a new line of code\n",
    "%load_ext autoreload\n",
    "%autoreload 2"
   ]
  },
  {
   "cell_type": "code",
   "execution_count": 2,
   "metadata": {
    "collapsed": true
   },
   "outputs": [],
   "source": [
    "# let's try creating a SchellingAgent\n",
    "from SchellingAgent import SchellingAgent\n",
    "\n",
    "grid = [[0,0,0],\n",
    "        [0,0,0],\n",
    "        [0,0,0]]\n",
    "\n",
    "agent1 = SchellingAgent((1,2),grid, 1)\n",
    "agent2=SchellingAgent((1,1),grid,1)\n",
    "agent3=SchellingAgent((0,1),grid,1)\n",
    "agent4=SchellingAgent((0,2),grid,1)\n",
    "agent5=SchellingAgent((2,2),grid,2)"
   ]
  },
  {
   "cell_type": "code",
   "execution_count": 82,
   "metadata": {},
   "outputs": [
    {
     "data": {
      "text/plain": [
       "1"
      ]
     },
     "execution_count": 82,
     "metadata": {},
     "output_type": "execute_result"
    }
   ],
   "source": [
    "agent1.pos[0]"
   ]
  },
  {
   "cell_type": "code",
   "execution_count": 80,
   "metadata": {},
   "outputs": [
    {
     "data": {
      "text/plain": [
       "[0, 1]"
      ]
     },
     "execution_count": 80,
     "metadata": {},
     "output_type": "execute_result"
    }
   ],
   "source": [
    "list(range(0,2))"
   ]
  },
  {
   "cell_type": "code",
   "execution_count": 91,
   "metadata": {},
   "outputs": [
    {
     "data": {
      "text/plain": [
       "1"
      ]
     },
     "execution_count": 91,
     "metadata": {},
     "output_type": "execute_result"
    }
   ],
   "source": [
    "grid[1][2]"
   ]
  },
  {
   "cell_type": "code",
   "execution_count": 50,
   "metadata": {},
   "outputs": [
    {
     "data": {
      "text/plain": [
       "2"
      ]
     },
     "execution_count": 50,
     "metadata": {},
     "output_type": "execute_result"
    }
   ],
   "source": [
    "grid[agent2.pos[0]][agent2.pos[1]]"
   ]
  },
  {
   "cell_type": "code",
   "execution_count": 4,
   "metadata": {
    "collapsed": true
   },
   "outputs": [],
   "source": [
    "def calc_sim(agent):\n",
    "    n=0\n",
    "    c=0\n",
    "    a=agent.pos[0]\n",
    "    b=agent.pos[1]\n",
    "    x=len(agent.pos)\n",
    "    for i in range(0,3):\n",
    "        \n",
    "        \n",
    "        for j in range(1,3):\n",
    "            \n",
    "            if grid[a-i][b-j]==grid[a][b]:\n",
    "                n=n+1\n",
    "        if grid[a-i][b-j]!=0:\n",
    "            c=c+1\n",
    "                \n",
    "            \n",
    "    print(n,c)\n",
    "    return (n/c)\n",
    "                "
   ]
  },
  {
   "cell_type": "code",
   "execution_count": 5,
   "metadata": {},
   "outputs": [
    {
     "name": "stdout",
     "output_type": "stream",
     "text": [
      "2 0\n"
     ]
    },
    {
     "ename": "ZeroDivisionError",
     "evalue": "division by zero",
     "output_type": "error",
     "traceback": [
      "\u001b[1;31m---------------------------------------------------------------------------\u001b[0m",
      "\u001b[1;31mZeroDivisionError\u001b[0m                         Traceback (most recent call last)",
      "\u001b[1;32m<ipython-input-5-86f5c18b702a>\u001b[0m in \u001b[0;36m<module>\u001b[1;34m()\u001b[0m\n\u001b[1;32m----> 1\u001b[1;33m \u001b[0mcalc_sim\u001b[0m\u001b[1;33m(\u001b[0m\u001b[0magent1\u001b[0m\u001b[1;33m)\u001b[0m\u001b[1;33m\u001b[0m\u001b[0m\n\u001b[0m",
      "\u001b[1;32m<ipython-input-4-84021ace8e21>\u001b[0m in \u001b[0;36mcalc_sim\u001b[1;34m(agent)\u001b[0m\n\u001b[0;32m     17\u001b[0m \u001b[1;33m\u001b[0m\u001b[0m\n\u001b[0;32m     18\u001b[0m     \u001b[0mprint\u001b[0m\u001b[1;33m(\u001b[0m\u001b[0mn\u001b[0m\u001b[1;33m,\u001b[0m\u001b[0mc\u001b[0m\u001b[1;33m)\u001b[0m\u001b[1;33m\u001b[0m\u001b[0m\n\u001b[1;32m---> 19\u001b[1;33m     \u001b[1;32mreturn\u001b[0m \u001b[1;33m(\u001b[0m\u001b[0mn\u001b[0m\u001b[1;33m/\u001b[0m\u001b[0mc\u001b[0m\u001b[1;33m)\u001b[0m\u001b[1;33m\u001b[0m\u001b[0m\n\u001b[0m\u001b[0;32m     20\u001b[0m \u001b[1;33m\u001b[0m\u001b[0m\n",
      "\u001b[1;31mZeroDivisionError\u001b[0m: division by zero"
     ]
    }
   ],
   "source": [
    "calc_sim(agent1)"
   ]
  },
  {
   "cell_type": "code",
   "execution_count": 76,
   "metadata": {
    "collapsed": true
   },
   "outputs": [],
   "source": [
    "def calculate_similarity(agent):\n",
    "    n=0\n",
    "    c=0\n",
    "    x=len(agent.pos)-1\n",
    "    \n",
    "    try:\n",
    "        for i in range(1,3):\n",
    "            if grid[agent.pos[0]][agent.pos[1]-i]==grid[agent.pos[0]][agent.pos[1]]:\n",
    "                n=n+1\n",
    "                if grid[agent.pos[0]][agent.pos[1]-i]!=0:\n",
    "                    c=c+1\n",
    "    except IndexError:\n",
    "        try:\n",
    "            for i in range(1,3):\n",
    "                if grid[agent.pos[0]][agent.pos[1]+i]==grid[agent.pos[0]][agent.pos[1]]:\n",
    "                    n=n+1\n",
    "                    if grid[agent.pos[0]][agent.pos[1]+i]!=0:\n",
    "                        c=c+1\n",
    "        except IndexError:\n",
    "            try:\n",
    "                for i in range(1,3):\n",
    "                    if grid[agent.pos[0]-i][agent.pos[1]]==grid[agent.pos[0]][agent.pos[1]]:\n",
    "                        n=n+1\n",
    "                        if grid[agent.pos[0]-i][agent.pos[1]]!=0:\n",
    "                            c=c+1\n",
    "            except IndexError:\n",
    "                try:\n",
    "                    for i in range(1,3):\n",
    "                        if grid[agent.pos[0]+i][agent.pos[1]]==grid[agent.pos[0]][agent.pos[1]]:\n",
    "                            n=n+1\n",
    "                            if grid[agent.pos[0]+i][agent.pos[1]]!=0:\n",
    "                                c=c+1\n",
    "                except IndexError:\n",
    "                    try:\n",
    "                        for i in range(1,3):\n",
    "                            if grid[agent.pos[0]-i][agent.pos[1]-i]==grid[agent.pos[0]][agent.pos[1]]:\n",
    "                                n=n+1\n",
    "                                if grid[agent.pos[0]-i][agent.pos[1]-i]!=0:\n",
    "                                    c=c+1\n",
    "                    except IndexError:\n",
    "                        try:\n",
    "                            for i in range(1,3):\n",
    "                                if grid[agent.pos[0]-i][agent.pos[1]+i]==grid[agent.pos[0]][agent.pos[1]]:\n",
    "                                    n=n+1\n",
    "                                    if grid[agent.pos[0]-i][agent.pos[1]+i]!=0:\n",
    "                                        c=c+1\n",
    "                        except IndexError:\n",
    "                            try:\n",
    "                                for i in range(1,3):\n",
    "                                    if grid[agent.pos[0]+i][agent.pos[1]-i]==grid[agent.pos[0]][agent.pos[1]]:\n",
    "                                        n=n+1\n",
    "                                        if grid[agent.pos[0]+i][agent.pos[1]-i]!=0:\n",
    "                                            c=c+1\n",
    "                            except IndexError:\n",
    "                                try:\n",
    "                                    for i in range(1,3):\n",
    "                                        if grid[agent.pos[0]+i][agent.pos[1]+i]==grid[agent.pos[0]][agent.pos[1]]:\n",
    "                                            n=n+1\n",
    "                                            if grid[agent.pos[0]+i][agent.pos[1]+i]!=0:\n",
    "                                                c=c+1\n",
    "                                except IndexError:\n",
    "                                    print ('neighbors',n,'count',c)\n",
    "                                    print ('index',n/c)\n",
    "    return n/c\n",
    "            \n",
    "    "
   ]
  },
  {
   "cell_type": "code",
   "execution_count": null,
   "metadata": {
    "collapsed": true
   },
   "outputs": [],
   "source": [
    "def calculate_similarity(agent):\n",
    "    n=0\n",
    "    c=0\n",
    "    "
   ]
  },
  {
   "cell_type": "code",
   "execution_count": 78,
   "metadata": {},
   "outputs": [
    {
     "data": {
      "text/plain": [
       "1.0"
      ]
     },
     "execution_count": 78,
     "metadata": {},
     "output_type": "execute_result"
    }
   ],
   "source": [
    "calculate_similarity(agent1)"
   ]
  },
  {
   "cell_type": "code",
   "execution_count": 20,
   "metadata": {},
   "outputs": [
    {
     "data": {
      "text/plain": [
       "<SchellingAgent.SchellingAgent at 0x29b50fb4cc0>"
      ]
     },
     "execution_count": 20,
     "metadata": {},
     "output_type": "execute_result"
    }
   ],
   "source": [
    "# we can print the object\n",
    "agent"
   ]
  },
  {
   "cell_type": "code",
   "execution_count": 21,
   "metadata": {},
   "outputs": [
    {
     "data": {
      "text/plain": [
       "(1, 2)"
      ]
     },
     "execution_count": 21,
     "metadata": {},
     "output_type": "execute_result"
    }
   ],
   "source": [
    "# and access the attributes using dot notation\n",
    "agent.pos"
   ]
  },
  {
   "cell_type": "code",
   "execution_count": 22,
   "metadata": {},
   "outputs": [
    {
     "data": {
      "text/plain": [
       "1"
      ]
     },
     "execution_count": 22,
     "metadata": {},
     "output_type": "execute_result"
    }
   ],
   "source": [
    "agent.type"
   ]
  },
  {
   "cell_type": "code",
   "execution_count": 23,
   "metadata": {},
   "outputs": [
    {
     "data": {
      "text/plain": [
       "[[0, 0, 0], [0, 0, 1], [0, 0, 0]]"
      ]
     },
     "execution_count": 23,
     "metadata": {},
     "output_type": "execute_result"
    }
   ],
   "source": [
    "agent.grid"
   ]
  },
  {
   "cell_type": "code",
   "execution_count": 24,
   "metadata": {},
   "outputs": [
    {
     "name": "stdout",
     "output_type": "stream",
     "text": [
      "Implement is_happy()\n"
     ]
    }
   ],
   "source": [
    "# we can also call the methods for the agent\n",
    "agent.is_happy()"
   ]
  },
  {
   "cell_type": "markdown",
   "metadata": {},
   "source": [
    "### Top-down design\n",
    "\n",
    "In this case, I haven't actually implemented the method yet.  I just put in a placeholder saying that I need to implement it.  This is a useful design strategy, known as \"top-down\" design.  First you understand big-picture what your code needs to do, and outline the methods.  Only after you get the signatures and basics set up, do you dive into the details of how to make them do those things.  This is a way to avoid getting lost in the weeds too soon.  I recommend you use it when practical."
   ]
  },
  {
   "cell_type": "markdown",
   "metadata": {},
   "source": [
    "### Quiz\n",
    "\n",
    "Take some time to implement the methods outlined.  Then test them here using a simple example, like above.  \n"
   ]
  },
  {
   "cell_type": "code",
   "execution_count": 32,
   "metadata": {},
   "outputs": [
    {
     "data": {
      "text/plain": [
       "0"
      ]
     },
     "execution_count": 32,
     "metadata": {},
     "output_type": "execute_result"
    }
   ],
   "source": [
    "neighbor=agent.pos[0]-1\n",
    "grid[]"
   ]
  },
  {
   "cell_type": "code",
   "execution_count": null,
   "metadata": {
    "collapsed": true
   },
   "outputs": [],
   "source": []
  },
  {
   "cell_type": "markdown",
   "metadata": {},
   "source": [
    "### Models as Objects\n",
    "\n",
    "Not every class represents something with such a nice real-world analogy as an agent.  In our case, we will use a class to represent a SchellingModel as well.  The SchellingModel has agents, but the model itself is about keeping track of how the agents interact with each other.  \n",
    "\n",
    "I've started this for you, but left the methods un-implemented.  Let's take a look. "
   ]
  },
  {
   "cell_type": "code",
   "execution_count": 27,
   "metadata": {
    "collapsed": true
   },
   "outputs": [],
   "source": [
    "# Let's try creating a new SchellingModel\n",
    "from SchellingModel import SchellingModel\n",
    "\n",
    "model = SchellingModel(5, 5, 0.9, 0.3)"
   ]
  },
  {
   "cell_type": "code",
   "execution_count": 30,
   "metadata": {},
   "outputs": [
    {
     "data": {
      "text/plain": [
       "<SchellingModel.SchellingModel at 0x5013c8d6d8>"
      ]
     },
     "execution_count": 30,
     "metadata": {},
     "output_type": "execute_result"
    }
   ],
   "source": [
    "# we can see that the model exists\n",
    "model"
   ]
  },
  {
   "cell_type": "code",
   "execution_count": 34,
   "metadata": {},
   "outputs": [
    {
     "data": {
      "text/plain": [
       "'Implement print_status()'"
      ]
     },
     "execution_count": 34,
     "metadata": {},
     "output_type": "execute_result"
    }
   ],
   "source": [
    "# it might be nice to be able to print the important information about the model. \n",
    "# I haven't implemented this method yet.  \n",
    "model.print_status()"
   ]
  },
  {
   "cell_type": "code",
   "execution_count": 35,
   "metadata": {
    "collapsed": true
   },
   "outputs": [],
   "source": [
    "# Take a few minutes to implement print_status(), then print it here.\n",
    "\n"
   ]
  },
  {
   "cell_type": "code",
   "execution_count": null,
   "metadata": {
    "collapsed": true
   },
   "outputs": [],
   "source": []
  },
  {
   "cell_type": "code",
   "execution_count": null,
   "metadata": {
    "collapsed": true
   },
   "outputs": [],
   "source": []
  },
  {
   "cell_type": "code",
   "execution_count": null,
   "metadata": {
    "collapsed": true
   },
   "outputs": [],
   "source": [
    "# Now we need to make this thing run.  Implement the step() and the run() methods.  "
   ]
  },
  {
   "cell_type": "code",
   "execution_count": null,
   "metadata": {
    "collapsed": true
   },
   "outputs": [],
   "source": []
  },
  {
   "cell_type": "code",
   "execution_count": null,
   "metadata": {
    "collapsed": true
   },
   "outputs": [],
   "source": []
  },
  {
   "cell_type": "code",
   "execution_count": null,
   "metadata": {
    "collapsed": true
   },
   "outputs": [],
   "source": [
    "# Let's test our model for a 20x20 grid.  "
   ]
  },
  {
   "cell_type": "code",
   "execution_count": null,
   "metadata": {
    "collapsed": true
   },
   "outputs": [],
   "source": []
  },
  {
   "cell_type": "code",
   "execution_count": null,
   "metadata": {
    "collapsed": true
   },
   "outputs": [],
   "source": []
  },
  {
   "cell_type": "code",
   "execution_count": null,
   "metadata": {
    "collapsed": true
   },
   "outputs": [],
   "source": [
    "# What happens if people have a higher preference for similarity?  "
   ]
  },
  {
   "cell_type": "code",
   "execution_count": null,
   "metadata": {
    "collapsed": true
   },
   "outputs": [],
   "source": []
  },
  {
   "cell_type": "code",
   "execution_count": null,
   "metadata": {
    "collapsed": true
   },
   "outputs": [],
   "source": []
  },
  {
   "cell_type": "markdown",
   "metadata": {},
   "source": [
    "### The Parable of the Polygons\n",
    "\n",
    "This is a very simple model, but it turns out that you can gain some very useful insights from even a simple model.  Schelling won a Nobel Prize in 2005 for \"having enhanced our understanding of conflict and cooperation through game-theory analysis\".  His work was applied to strategies of conflict and arms control during the Cold War, and to understanding residential housing segregation, as noted here.  \n",
    "\n",
    "The Parable of the Polygons offers a nice demonstration of the type of emergent behavior that comes out at a system level, from the behavior of individual agents.  Spend the time to work through it.  \n",
    "\n",
    "http://ncase.me/polygons/\n",
    "\n",
    "Add a note below with your observations and reactions.  "
   ]
  },
  {
   "cell_type": "code",
   "execution_count": null,
   "metadata": {
    "collapsed": true
   },
   "outputs": [],
   "source": []
  },
  {
   "cell_type": "markdown",
   "metadata": {},
   "source": [
    "### The Racial Dot Map\n",
    "\n",
    "It is easy to dismiss this as purely hypothetical, and it is.  What happens when we look at real data?  The Census collects information on race, and reports it at the Census Block level.  The demographers at UVA put together some nice interactive maps showing these data.  \n",
    "\n",
    "https://demographics.virginia.edu/DotMap/index.html\n",
    "\n",
    "https://demographics.coopercenter.org/racial-dot-map\n",
    "\n",
    "Add a note below with observations of a city you are familiar with.  \n"
   ]
  },
  {
   "cell_type": "markdown",
   "metadata": {},
   "source": []
  },
  {
   "cell_type": "markdown",
   "metadata": {},
   "source": [
    "### Another example -- The Petrie Multiplier\n",
    "\n",
    "At UK, about 20% of engineering students are women: \n",
    "\n",
    "https://www.uky.edu/iraa/enrollment-demographics\n",
    "\n",
    "If you pay any attention whatsoever to the news, you will have heard about the #metoo movement, and other examples of inappropriate or sexist behavior.  But you may not have seen it or experienced it it yourself.  The Petrie Multiplier offers an explanation for why that may be, and why the experience of your female colleagues and classmates may be very different.\n",
    "\n",
    "http://blog.ian.gent/2013/10/the-petrie-multiplier-why-attack-on.html\n",
    "\n",
    "Read about the Petrie Multiplier, and answer the following questions:\n",
    "\n",
    "1. What would happen in the simulation if you assumed that an agent subject to >N sexist remarks had an increased probability of dropping out and choosing a different field?  \n",
    "\n",
    "\n",
    "2. What would happen in the simulation if you designated 10% of agents as \"bystander interveners\"?  If the bystander witnesses an inappropriate remark, either on themselves or on another agent, the intervener confronts the attacker.  Say there is a 10% chance that this intervention causes the attacker to stop making inappropriate remarks.  How would this change the simulation?  \n",
    "\n",
    "\n",
    "3. What if you take sex out of the simulation?  Consider a workplace where you have positive and supportive workers, and one person who is mean and selfish on a regular basis.  For each mean/selfish interaction in the simulation, the person on the receiving end has an increased proability of making a mean/selfish interaction with another co-worker.  What would happen in this simulation?  \n",
    "\n",
    "\n",
    "I'm not usually a fan of business books, but there are a couple of useful ones coming from business school profs that consider the last issue.  \n",
    "\n",
    "Jim Collins, Good to Great: Why Some Companies Make the Leap and Others Don't, Harper Business 2001.\n",
    "\n",
    "https://www.amazon.com/Good-Great-Some-Companies-Others/dp/0066620996\n",
    "\n",
    "\n",
    "Robert Sutton, The No Asshole Rule: Building a Civilized Workplace and Surviving One That Isn't, Business Plus, 2007\n",
    "\n",
    "https://www.amazon.com/Asshole-Rule-Civilized-Workplace-Surviving/dp/0446526568/ref=tmm_hrd_swatch_0?_encoding=UTF8&qid=&sr=\n"
   ]
  },
  {
   "cell_type": "code",
   "execution_count": null,
   "metadata": {
    "collapsed": true
   },
   "outputs": [],
   "source": []
  }
 ],
 "metadata": {
  "anaconda-cloud": {},
  "kernelspec": {
   "display_name": "Python 3",
   "language": "python",
   "name": "python3"
  },
  "language_info": {
   "codemirror_mode": {
    "name": "ipython",
    "version": 3
   },
   "file_extension": ".py",
   "mimetype": "text/x-python",
   "name": "python",
   "nbconvert_exporter": "python",
   "pygments_lexer": "ipython3",
   "version": "3.6.3"
  }
 },
 "nbformat": 4,
 "nbformat_minor": 1
}
