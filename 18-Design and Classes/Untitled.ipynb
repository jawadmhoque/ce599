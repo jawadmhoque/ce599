{
 "cells": [
  {
   "cell_type": "code",
   "execution_count": 11,
   "metadata": {},
   "outputs": [],
   "source": [
    "class Car(object):\n",
    "    \"\"\"\n",
    "    base class for a car\n",
    "    \"\"\"\n",
    "    \n",
    "    def __init__(self,color,location=[0,0],direction='N'):\n",
    "        self.color=color\n",
    "        self.location=location\n",
    "        self.x=location[0]\n",
    "        self.y=location[1]\n",
    "        self.direction=direction\n",
    "        \n",
    "    def go(self,units):\n",
    "        \"\"\"function to move car forward\"\"\"\n",
    "        if self.direction=='N':\n",
    "            self.y=self.y+units\n",
    "        elif self.direction=='S':\n",
    "            self.y=self.y-units\n",
    "        elif self.direction=='E':\n",
    "            self.x=self.x+units\n",
    "        else:\n",
    "            self.x=self.x-units\n",
    "        self.location=[self.x,self.y]\n",
    "        print (self.location)\n",
    "        \n",
    "    def turn_right(self):\n",
    "        if self.direction == 'N':\n",
    "            self.direction = 'E'\n",
    "        elif self.direction == 'S':\n",
    "            self.direction = 'W'\n",
    "        elif self.direction == 'E':\n",
    "            self.direction = 'S'\n",
    "        else:\n",
    "            self.direction = 'N'\n",
    "    def turn_left(self):\n",
    "        if self.direction=='N':\n",
    "            self.direction='W'\n",
    "        elif self.direction=='S':\n",
    "            self.direction='E'\n",
    "        elif self.direction=='E':\n",
    "            self.direction='N'\n",
    "        else:\n",
    "            self.direction='S'\n",
    "          \n",
    "    def printcar(self):\n",
    "        print('Car Color is ' + self.color)\n",
    "        print('Car Location is ')\n",
    "        print(self.location)\n",
    "        print('Car Direction is ' + self.direction)\n",
    "        "
   ]
  },
  {
   "cell_type": "code",
   "execution_count": 12,
   "metadata": {},
   "outputs": [
    {
     "ename": "TabError",
     "evalue": "inconsistent use of tabs and spaces in indentation (Car.py, line 30)",
     "output_type": "error",
     "traceback": [
      "Traceback \u001b[1;36m(most recent call last)\u001b[0m:\n",
      "  File \u001b[0;32m\"C:\\Users\\jho337\\AppData\\Local\\Continuum\\anaconda3\\lib\\site-packages\\IPython\\core\\interactiveshell.py\"\u001b[0m, line \u001b[0;32m2862\u001b[0m, in \u001b[0;35mrun_code\u001b[0m\n    exec(code_obj, self.user_global_ns, self.user_ns)\n",
      "\u001b[1;36m  File \u001b[1;32m\"<ipython-input-12-5692fccf4af4>\"\u001b[1;36m, line \u001b[1;32m1\u001b[1;36m, in \u001b[1;35m<module>\u001b[1;36m\u001b[0m\n\u001b[1;33m    import Car\u001b[0m\n",
      "\u001b[1;36m  File \u001b[1;32m\"C:\\Users\\jho337\\Documents\\GitHub\\ce599\\18-Design and Classes\\Car.py\"\u001b[1;36m, line \u001b[1;32m30\u001b[0m\n\u001b[1;33m    if self.direction == 'N':\u001b[0m\n\u001b[1;37m                             ^\u001b[0m\n\u001b[1;31mTabError\u001b[0m\u001b[1;31m:\u001b[0m inconsistent use of tabs and spaces in indentation\n"
     ]
    }
   ],
   "source": [
    "import Car"
   ]
  },
  {
   "cell_type": "code",
   "execution_count": null,
   "metadata": {
    "collapsed": true
   },
   "outputs": [],
   "source": []
  }
 ],
 "metadata": {
  "kernelspec": {
   "display_name": "Python 3",
   "language": "python",
   "name": "python3"
  },
  "language_info": {
   "codemirror_mode": {
    "name": "ipython",
    "version": 3
   },
   "file_extension": ".py",
   "mimetype": "text/x-python",
   "name": "python",
   "nbconvert_exporter": "python",
   "pygments_lexer": "ipython3",
   "version": "3.6.3"
  }
 },
 "nbformat": 4,
 "nbformat_minor": 2
}
