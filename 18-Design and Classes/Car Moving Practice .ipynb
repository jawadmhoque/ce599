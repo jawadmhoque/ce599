{
 "cells": [
  {
   "cell_type": "code",
   "execution_count": 1,
   "metadata": {
    "collapsed": true
   },
   "outputs": [],
   "source": [
    "class Car(object):\n",
    "    \"\"\"\n",
    "    base class for a car\n",
    "    \"\"\"\n",
    "    \n",
    "    def __init__(self,color,location=[0,0],direction='N'):\n",
    "        self.color=color\n",
    "        self.location=location\n",
    "        self.x=location[0]\n",
    "        self.y=location[1]\n",
    "        self.direction=direction\n",
    "        \n",
    "    def go(self,units):\n",
    "        \"\"\"function to move car forward\"\"\"\n",
    "        if self.direction=='N':\n",
    "            self.y=self.y+units\n",
    "        elif self.direction=='S':\n",
    "            self.y=self.y-units\n",
    "        elif self.direction=='E':\n",
    "            self.x=self.x+units\n",
    "        else:\n",
    "            self.x=self.x-units\n",
    "        self.location=[self.x,self.y]\n",
    "        print (self.location)\n",
    "        \n",
    "    def turn_right(self):\n",
    "        if self.direction == 'N':\n",
    "            self.direction = 'E'\n",
    "        elif self.direction == 'S':\n",
    "            self.direction = 'W'\n",
    "        elif self.direction == 'E':\n",
    "            self.direction = 'S'\n",
    "        else:\n",
    "            self.direction = 'N'\n",
    "    def turn_left(self):\n",
    "        if self.direction=='N':\n",
    "            self.direction='W'\n",
    "        elif self.direction=='S':\n",
    "            self.direction='E'\n",
    "        elif self.direction=='E':\n",
    "            self.direction='N'\n",
    "        else:\n",
    "            self.direction='S'\n",
    "          \n",
    "    def printcar(self):\n",
    "        print('Car Color is ' + self.color)\n",
    "        print('Car Location is ')\n",
    "        print(self.location)\n",
    "        print('Car Direction is ' + self.direction)\n",
    "        "
   ]
  },
  {
   "cell_type": "code",
   "execution_count": 2,
   "metadata": {
    "collapsed": true
   },
   "outputs": [],
   "source": [
    "car=Car(color='yellow',location=[5,3],direction='E')"
   ]
  },
  {
   "cell_type": "code",
   "execution_count": 3,
   "metadata": {},
   "outputs": [
    {
     "data": {
      "text/plain": [
       "[5, 3]"
      ]
     },
     "execution_count": 3,
     "metadata": {},
     "output_type": "execute_result"
    }
   ],
   "source": [
    "car.location"
   ]
  },
  {
   "cell_type": "code",
   "execution_count": 8,
   "metadata": {},
   "outputs": [
    {
     "name": "stdout",
     "output_type": "stream",
     "text": [
      "[14, 3]\n"
     ]
    }
   ],
   "source": [
    "car.go(3)"
   ]
  },
  {
   "cell_type": "code",
   "execution_count": 9,
   "metadata": {},
   "outputs": [
    {
     "data": {
      "text/plain": [
       "[14, 3]"
      ]
     },
     "execution_count": 9,
     "metadata": {},
     "output_type": "execute_result"
    }
   ],
   "source": [
    "car.location"
   ]
  },
  {
   "cell_type": "code",
   "execution_count": 15,
   "metadata": {},
   "outputs": [
    {
     "data": {
      "text/plain": [
       "'N'"
      ]
     },
     "execution_count": 15,
     "metadata": {},
     "output_type": "execute_result"
    }
   ],
   "source": [
    "car.direction"
   ]
  },
  {
   "cell_type": "code",
   "execution_count": 16,
   "metadata": {},
   "outputs": [
    {
     "data": {
      "text/plain": [
       "<bound method Car.turn_left of <__main__.Car object at 0x000002354932A5F8>>"
      ]
     },
     "execution_count": 16,
     "metadata": {},
     "output_type": "execute_result"
    }
   ],
   "source": [
    "car.turn_left"
   ]
  },
  {
   "cell_type": "code",
   "execution_count": 17,
   "metadata": {},
   "outputs": [
    {
     "data": {
      "text/plain": [
       "[14, 3]"
      ]
     },
     "execution_count": 17,
     "metadata": {},
     "output_type": "execute_result"
    }
   ],
   "source": [
    "car.location"
   ]
  },
  {
   "cell_type": "code",
   "execution_count": 20,
   "metadata": {},
   "outputs": [],
   "source": [
    "car.turn_left()"
   ]
  },
  {
   "cell_type": "code",
   "execution_count": 21,
   "metadata": {},
   "outputs": [
    {
     "data": {
      "text/plain": [
       "'W'"
      ]
     },
     "execution_count": 21,
     "metadata": {},
     "output_type": "execute_result"
    }
   ],
   "source": [
    "car.direction"
   ]
  },
  {
   "cell_type": "code",
   "execution_count": null,
   "metadata": {
    "collapsed": true
   },
   "outputs": [],
   "source": []
  }
 ],
 "metadata": {
  "kernelspec": {
   "display_name": "Python 3",
   "language": "python",
   "name": "python3"
  },
  "language_info": {
   "codemirror_mode": {
    "name": "ipython",
    "version": 3
   },
   "file_extension": ".py",
   "mimetype": "text/x-python",
   "name": "python",
   "nbconvert_exporter": "python",
   "pygments_lexer": "ipython3",
   "version": "3.6.3"
  }
 },
 "nbformat": 4,
 "nbformat_minor": 2
}
